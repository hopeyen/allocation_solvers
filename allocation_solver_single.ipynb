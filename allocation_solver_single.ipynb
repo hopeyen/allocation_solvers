{
  "nbformat": 4,
  "nbformat_minor": 0,
  "metadata": {
    "colab": {
      "name": "allocation solver - single.ipynb",
      "provenance": [],
      "collapsed_sections": [
        "l0EIG40a_rs4",
        "41gGriRQoiKs",
        "xlImoQov-ja6"
      ],
      "include_colab_link": true
    },
    "interpreter": {
      "hash": "b0fa6594d8f4cbf19f97940f81e996739fb7646882a419484c72d19e05852a7e"
    },
    "kernelspec": {
      "display_name": "Python 3.9.6 64-bit",
      "name": "python3"
    },
    "language_info": {
      "codemirror_mode": {
        "name": "ipython",
        "version": 3
      },
      "file_extension": ".py",
      "mimetype": "text/x-python",
      "name": "python",
      "nbconvert_exporter": "python",
      "pygments_lexer": "ipython3",
      "version": "3.9.6"
    }
  },
  "cells": [
    {
      "cell_type": "markdown",
      "metadata": {
        "id": "view-in-github",
        "colab_type": "text"
      },
      "source": [
        "<a href=\"https://colab.research.google.com/github/hopeyen/allocation_solvers/blob/main/allocation_solver_single.ipynb\" target=\"_parent\"><img src=\"https://colab.research.google.com/assets/colab-badge.svg\" alt=\"Open In Colab\"/></a>"
      ]
    },
    {
      "cell_type": "markdown",
      "metadata": {
        "id": "Jno1N_MO_PJz"
      },
      "source": [
        "# Packages and client"
      ]
    },
    {
      "cell_type": "code",
      "metadata": {
        "colab": {
          "base_uri": "https://localhost:8080/",
          "height": 1000
        },
        "collapsed": true,
        "id": "EaOaP9oldZf1",
        "outputId": "d22258b6-3b44-4e58-dd5e-e2b178bf8bf6"
      },
      "source": [
        "# Installation \n",
        "!pip install gql\n",
        "!pip install gurobipy\n",
        "!pip install web3\n",
        "!pip install messari\n",
        "!pip install python-dotenv\n",
        "\n",
        "\n",
        "## If jsonschema version conflict\n",
        "!pip install --force-reinstall jsonschema==3.2.0"
      ],
      "execution_count": null,
      "outputs": [
        {
          "output_type": "stream",
          "name": "stdout",
          "text": [
            "Collecting gql\n",
            "  Downloading gql-2.0.0-py2.py3-none-any.whl (10 kB)\n",
            "Requirement already satisfied: requests<3,>=2.12 in /usr/local/lib/python3.7/dist-packages (from gql) (2.23.0)\n",
            "Collecting graphql-core<3,>=2.3.2\n",
            "  Downloading graphql_core-2.3.2-py2.py3-none-any.whl (252 kB)\n",
            "\u001b[K     |████████████████████████████████| 252 kB 17.5 MB/s \n",
            "\u001b[?25hRequirement already satisfied: promise<3,>=2.3 in /usr/local/lib/python3.7/dist-packages (from gql) (2.3)\n",
            "Requirement already satisfied: six>=1.10.0 in /usr/local/lib/python3.7/dist-packages (from gql) (1.15.0)\n",
            "Collecting rx<2,>=1.6\n",
            "  Downloading Rx-1.6.1-py2.py3-none-any.whl (179 kB)\n",
            "\u001b[K     |████████████████████████████████| 179 kB 45.4 MB/s \n",
            "\u001b[?25hRequirement already satisfied: certifi>=2017.4.17 in /usr/local/lib/python3.7/dist-packages (from requests<3,>=2.12->gql) (2021.10.8)\n",
            "Requirement already satisfied: urllib3!=1.25.0,!=1.25.1,<1.26,>=1.21.1 in /usr/local/lib/python3.7/dist-packages (from requests<3,>=2.12->gql) (1.24.3)\n",
            "Requirement already satisfied: chardet<4,>=3.0.2 in /usr/local/lib/python3.7/dist-packages (from requests<3,>=2.12->gql) (3.0.4)\n",
            "Requirement already satisfied: idna<3,>=2.5 in /usr/local/lib/python3.7/dist-packages (from requests<3,>=2.12->gql) (2.10)\n",
            "Installing collected packages: rx, graphql-core, gql\n",
            "Successfully installed gql-2.0.0 graphql-core-2.3.2 rx-1.6.1\n",
            "Collecting gurobipy\n",
            "  Downloading gurobipy-9.5.0-cp37-cp37m-manylinux2014_x86_64.whl (11.5 MB)\n",
            "\u001b[K     |████████████████████████████████| 11.5 MB 21.0 MB/s \n",
            "\u001b[?25hInstalling collected packages: gurobipy\n",
            "Successfully installed gurobipy-9.5.0\n",
            "Collecting web3\n",
            "  Downloading web3-5.25.0-py3-none-any.whl (485 kB)\n",
            "\u001b[K     |████████████████████████████████| 485 kB 28.7 MB/s \n",
            "\u001b[?25hCollecting lru-dict<2.0.0,>=1.1.6\n",
            "  Downloading lru-dict-1.1.7.tar.gz (10 kB)\n",
            "Collecting eth-utils<2.0.0,>=1.9.5\n",
            "  Downloading eth_utils-1.10.0-py3-none-any.whl (24 kB)\n",
            "Requirement already satisfied: protobuf<4,>=3.10.0 in /usr/local/lib/python3.7/dist-packages (from web3) (3.17.3)\n",
            "Collecting eth-hash[pycryptodome]<1.0.0,>=0.2.0\n",
            "  Downloading eth_hash-0.3.2-py3-none-any.whl (8.8 kB)\n",
            "Collecting websockets<10,>=9.1\n",
            "  Downloading websockets-9.1-cp37-cp37m-manylinux2010_x86_64.whl (103 kB)\n",
            "\u001b[K     |████████████████████████████████| 103 kB 54.6 MB/s \n",
            "\u001b[?25hCollecting eth-typing<3.0.0,>=2.0.0\n",
            "  Downloading eth_typing-2.2.2-py3-none-any.whl (6.2 kB)\n",
            "Collecting eth-account<0.6.0,>=0.5.6\n",
            "  Downloading eth_account-0.5.6-py3-none-any.whl (101 kB)\n",
            "\u001b[K     |████████████████████████████████| 101 kB 13.4 MB/s \n",
            "\u001b[?25hCollecting jsonschema<4.0.0,>=3.2.0\n",
            "  Downloading jsonschema-3.2.0-py2.py3-none-any.whl (56 kB)\n",
            "\u001b[K     |████████████████████████████████| 56 kB 4.6 MB/s \n",
            "\u001b[?25hCollecting aiohttp<4,>=3.7.4.post0\n",
            "  Downloading aiohttp-3.8.1-cp37-cp37m-manylinux_2_5_x86_64.manylinux1_x86_64.manylinux_2_12_x86_64.manylinux2010_x86_64.whl (1.1 MB)\n",
            "\u001b[K     |████████████████████████████████| 1.1 MB 32.0 MB/s \n",
            "\u001b[?25hCollecting hexbytes<1.0.0,>=0.1.0\n",
            "  Downloading hexbytes-0.2.2-py3-none-any.whl (6.1 kB)\n",
            "Requirement already satisfied: requests<3.0.0,>=2.16.0 in /usr/local/lib/python3.7/dist-packages (from web3) (2.23.0)\n",
            "Requirement already satisfied: typing-extensions<4,>=3.7.4.1 in /usr/local/lib/python3.7/dist-packages (from web3) (3.10.0.2)\n",
            "Collecting eth-abi<3.0.0,>=2.0.0b6\n",
            "  Downloading eth_abi-2.1.1-py3-none-any.whl (27 kB)\n",
            "Collecting ipfshttpclient==0.8.0a2\n",
            "  Downloading ipfshttpclient-0.8.0a2-py3-none-any.whl (82 kB)\n",
            "\u001b[K     |████████████████████████████████| 82 kB 910 kB/s \n",
            "\u001b[?25hCollecting multiaddr>=0.0.7\n",
            "  Downloading multiaddr-0.0.9-py2.py3-none-any.whl (16 kB)\n",
            "Collecting asynctest==0.13.0\n",
            "  Downloading asynctest-0.13.0-py3-none-any.whl (26 kB)\n",
            "Collecting multidict<7.0,>=4.5\n",
            "  Downloading multidict-5.2.0-cp37-cp37m-manylinux_2_5_x86_64.manylinux1_x86_64.manylinux_2_12_x86_64.manylinux2010_x86_64.whl (160 kB)\n",
            "\u001b[K     |████████████████████████████████| 160 kB 61.7 MB/s \n",
            "\u001b[?25hCollecting async-timeout<5.0,>=4.0.0a3\n",
            "  Downloading async_timeout-4.0.1-py3-none-any.whl (5.7 kB)\n",
            "Requirement already satisfied: charset-normalizer<3.0,>=2.0 in /usr/local/lib/python3.7/dist-packages (from aiohttp<4,>=3.7.4.post0->web3) (2.0.7)\n",
            "Collecting frozenlist>=1.1.1\n",
            "  Downloading frozenlist-1.2.0-cp37-cp37m-manylinux_2_5_x86_64.manylinux1_x86_64.manylinux_2_12_x86_64.manylinux2010_x86_64.whl (192 kB)\n",
            "\u001b[K     |████████████████████████████████| 192 kB 62.9 MB/s \n",
            "\u001b[?25hCollecting aiosignal>=1.1.2\n",
            "  Downloading aiosignal-1.2.0-py3-none-any.whl (8.2 kB)\n",
            "Requirement already satisfied: attrs>=17.3.0 in /usr/local/lib/python3.7/dist-packages (from aiohttp<4,>=3.7.4.post0->web3) (21.2.0)\n",
            "Collecting yarl<2.0,>=1.0\n",
            "  Downloading yarl-1.7.2-cp37-cp37m-manylinux_2_5_x86_64.manylinux1_x86_64.manylinux_2_12_x86_64.manylinux2010_x86_64.whl (271 kB)\n",
            "\u001b[K     |████████████████████████████████| 271 kB 76.2 MB/s \n",
            "\u001b[?25hCollecting parsimonious<0.9.0,>=0.8.0\n",
            "  Downloading parsimonious-0.8.1.tar.gz (45 kB)\n",
            "\u001b[K     |████████████████████████████████| 45 kB 3.4 MB/s \n",
            "\u001b[?25hCollecting bitarray<1.3.0,>=1.2.1\n",
            "  Downloading bitarray-1.2.2.tar.gz (48 kB)\n",
            "\u001b[K     |████████████████████████████████| 48 kB 5.5 MB/s \n",
            "\u001b[?25hCollecting eth-keys!=0.3.2,<0.4.0,>=0.2.1\n",
            "  Downloading eth_keys-0.3.3-py3-none-any.whl (20 kB)\n",
            "Collecting eth-rlp<2,>=0.1.2\n",
            "  Downloading eth_rlp-0.2.1-py3-none-any.whl (5.0 kB)\n",
            "Collecting rlp<3,>=1.0.0\n",
            "  Downloading rlp-2.0.1-py2.py3-none-any.whl (20 kB)\n",
            "Collecting eth-keyfile<0.6.0,>=0.5.0\n",
            "  Downloading eth_keyfile-0.5.1-py3-none-any.whl (8.3 kB)\n",
            "Collecting pycryptodome<4,>=3.6.6\n",
            "  Downloading pycryptodome-3.11.0-cp35-abi3-manylinux2010_x86_64.whl (1.9 MB)\n",
            "\u001b[K     |████████████████████████████████| 1.9 MB 49.0 MB/s \n",
            "\u001b[?25hCollecting cytoolz<1.0.0,>=0.9.0\n",
            "  Downloading cytoolz-0.11.2.tar.gz (481 kB)\n",
            "\u001b[K     |████████████████████████████████| 481 kB 45.8 MB/s \n",
            "\u001b[?25hRequirement already satisfied: toolz>=0.8.0 in /usr/local/lib/python3.7/dist-packages (from cytoolz<1.0.0,>=0.9.0->eth-keyfile<0.6.0,>=0.5.0->eth-account<0.6.0,>=0.5.6->web3) (0.11.2)\n",
            "Requirement already satisfied: setuptools in /usr/local/lib/python3.7/dist-packages (from jsonschema<4.0.0,>=3.2.0->web3) (57.4.0)\n",
            "Requirement already satisfied: pyrsistent>=0.14.0 in /usr/local/lib/python3.7/dist-packages (from jsonschema<4.0.0,>=3.2.0->web3) (0.18.0)\n",
            "Requirement already satisfied: six>=1.11.0 in /usr/local/lib/python3.7/dist-packages (from jsonschema<4.0.0,>=3.2.0->web3) (1.15.0)\n",
            "Requirement already satisfied: importlib-metadata in /usr/local/lib/python3.7/dist-packages (from jsonschema<4.0.0,>=3.2.0->web3) (4.8.2)\n",
            "Collecting varint\n",
            "  Downloading varint-1.0.2.tar.gz (1.9 kB)\n",
            "Collecting netaddr\n",
            "  Downloading netaddr-0.8.0-py2.py3-none-any.whl (1.9 MB)\n",
            "\u001b[K     |████████████████████████████████| 1.9 MB 41.2 MB/s \n",
            "\u001b[?25hCollecting base58\n",
            "  Downloading base58-2.1.1-py3-none-any.whl (5.6 kB)\n",
            "Requirement already satisfied: idna<3,>=2.5 in /usr/local/lib/python3.7/dist-packages (from requests<3.0.0,>=2.16.0->web3) (2.10)\n",
            "Requirement already satisfied: certifi>=2017.4.17 in /usr/local/lib/python3.7/dist-packages (from requests<3.0.0,>=2.16.0->web3) (2021.10.8)\n",
            "Requirement already satisfied: urllib3!=1.25.0,!=1.25.1,<1.26,>=1.21.1 in /usr/local/lib/python3.7/dist-packages (from requests<3.0.0,>=2.16.0->web3) (1.24.3)\n",
            "Requirement already satisfied: chardet<4,>=3.0.2 in /usr/local/lib/python3.7/dist-packages (from requests<3.0.0,>=2.16.0->web3) (3.0.4)\n",
            "Requirement already satisfied: zipp>=0.5 in /usr/local/lib/python3.7/dist-packages (from importlib-metadata->jsonschema<4.0.0,>=3.2.0->web3) (3.6.0)\n",
            "Building wheels for collected packages: bitarray, cytoolz, lru-dict, parsimonious, varint\n",
            "  Building wheel for bitarray (setup.py) ... \u001b[?25l\u001b[?25hdone\n",
            "  Created wheel for bitarray: filename=bitarray-1.2.2-cp37-cp37m-linux_x86_64.whl size=107030 sha256=6001983948d7064a38cb123c0dc62d8e279dcb9ad8b86478793e081d41ef8061\n",
            "  Stored in directory: /root/.cache/pip/wheels/91/c8/a0/4fb7317b7072d4b6a4366454e5bf229ff5bb9ba1f7de8ef90d\n",
            "  Building wheel for cytoolz (setup.py) ... \u001b[?25l\u001b[?25hdone\n",
            "  Created wheel for cytoolz: filename=cytoolz-0.11.2-cp37-cp37m-linux_x86_64.whl size=1231123 sha256=4001d4ed110bbfc511b3e9127bebcc195d71fa5ef601d459d71609c9fdfbbf66\n",
            "  Stored in directory: /root/.cache/pip/wheels/38/70/71/ca13ea3d36ccd0b3d0ec7d7a4ca67522048d695b556bba4f59\n",
            "  Building wheel for lru-dict (setup.py) ... \u001b[?25l\u001b[?25hdone\n",
            "  Created wheel for lru-dict: filename=lru_dict-1.1.7-cp37-cp37m-linux_x86_64.whl size=28410 sha256=e1c66ec6916f941793e5a6bd63c7c8716f4ca4b23384abaefc3a3610846a7273\n",
            "  Stored in directory: /root/.cache/pip/wheels/9d/0b/4e/aa8fec9833090cd52bcd76f92f9d95e1ee7b915c12093663b4\n",
            "  Building wheel for parsimonious (setup.py) ... \u001b[?25l\u001b[?25hdone\n",
            "  Created wheel for parsimonious: filename=parsimonious-0.8.1-py3-none-any.whl size=42724 sha256=bf2dfa3ee3186ef25de3b8fe231f953c65b10cc35f0c3ff9b305fe9dc6d3e6fd\n",
            "  Stored in directory: /root/.cache/pip/wheels/88/5d/ba/f27d8af07306b65ee44f9d3f9cadea1db749a421a6db8a99bf\n",
            "  Building wheel for varint (setup.py) ... \u001b[?25l\u001b[?25hdone\n",
            "  Created wheel for varint: filename=varint-1.0.2-py3-none-any.whl size=1979 sha256=176b691739a03203bd53ff83c4da411f60faee553d481cb7b8855785529cf91c\n",
            "  Stored in directory: /root/.cache/pip/wheels/69/21/07/09f1c6a7d9b59377aa6d98da6efdd670f7ca40aabd93d02704\n",
            "Successfully built bitarray cytoolz lru-dict parsimonious varint\n",
            "Installing collected packages: eth-typing, eth-hash, cytoolz, eth-utils, varint, rlp, pycryptodome, parsimonious, netaddr, multidict, hexbytes, frozenlist, eth-keys, base58, yarl, multiaddr, eth-rlp, eth-keyfile, eth-abi, bitarray, asynctest, async-timeout, aiosignal, websockets, lru-dict, jsonschema, ipfshttpclient, eth-account, aiohttp, web3\n",
            "  Attempting uninstall: jsonschema\n",
            "    Found existing installation: jsonschema 2.6.0\n",
            "    Uninstalling jsonschema-2.6.0:\n",
            "      Successfully uninstalled jsonschema-2.6.0\n",
            "\u001b[31mERROR: pip's dependency resolver does not currently take into account all the packages that are installed. This behaviour is the source of the following dependency conflicts.\n",
            "nbclient 0.5.9 requires jupyter-client>=6.1.5, but you have jupyter-client 5.3.5 which is incompatible.\u001b[0m\n",
            "Successfully installed aiohttp-3.8.1 aiosignal-1.2.0 async-timeout-4.0.1 asynctest-0.13.0 base58-2.1.1 bitarray-1.2.2 cytoolz-0.11.2 eth-abi-2.1.1 eth-account-0.5.6 eth-hash-0.3.2 eth-keyfile-0.5.1 eth-keys-0.3.3 eth-rlp-0.2.1 eth-typing-2.2.2 eth-utils-1.10.0 frozenlist-1.2.0 hexbytes-0.2.2 ipfshttpclient-0.8.0a2 jsonschema-3.2.0 lru-dict-1.1.7 multiaddr-0.0.9 multidict-5.2.0 netaddr-0.8.0 parsimonious-0.8.1 pycryptodome-3.11.0 rlp-2.0.1 varint-1.0.2 web3-5.25.0 websockets-9.1 yarl-1.7.2\n",
            "Collecting messari\n",
            "  Downloading messari-1.0.0-py3-none-any.whl (9.0 kB)\n",
            "Requirement already satisfied: requests>=2.18.4 in /usr/local/lib/python3.7/dist-packages (from messari) (2.23.0)\n",
            "Requirement already satisfied: certifi>=2017.4.17 in /usr/local/lib/python3.7/dist-packages (from requests>=2.18.4->messari) (2021.10.8)\n",
            "Requirement already satisfied: idna<3,>=2.5 in /usr/local/lib/python3.7/dist-packages (from requests>=2.18.4->messari) (2.10)\n",
            "Requirement already satisfied: urllib3!=1.25.0,!=1.25.1,<1.26,>=1.21.1 in /usr/local/lib/python3.7/dist-packages (from requests>=2.18.4->messari) (1.24.3)\n",
            "Requirement already satisfied: chardet<4,>=3.0.2 in /usr/local/lib/python3.7/dist-packages (from requests>=2.18.4->messari) (3.0.4)\n",
            "Installing collected packages: messari\n",
            "Successfully installed messari-1.0.0\n",
            "Collecting python-dotenv\n",
            "  Downloading python_dotenv-0.19.2-py2.py3-none-any.whl (17 kB)\n",
            "Installing collected packages: python-dotenv\n",
            "Successfully installed python-dotenv-0.19.2\n",
            "Collecting jsonschema==3.2.0\n",
            "  Using cached jsonschema-3.2.0-py2.py3-none-any.whl (56 kB)\n",
            "Collecting importlib-metadata\n",
            "  Downloading importlib_metadata-4.8.2-py3-none-any.whl (17 kB)\n",
            "Collecting six>=1.11.0\n",
            "  Downloading six-1.16.0-py2.py3-none-any.whl (11 kB)\n",
            "Collecting attrs>=17.4.0\n",
            "  Downloading attrs-21.2.0-py2.py3-none-any.whl (53 kB)\n",
            "\u001b[K     |████████████████████████████████| 53 kB 2.4 MB/s \n",
            "\u001b[?25hCollecting pyrsistent>=0.14.0\n",
            "  Downloading pyrsistent-0.18.0-cp37-cp37m-manylinux1_x86_64.whl (119 kB)\n",
            "\u001b[K     |████████████████████████████████| 119 kB 59.4 MB/s \n",
            "\u001b[?25hCollecting setuptools\n",
            "  Downloading setuptools-59.2.0-py3-none-any.whl (952 kB)\n",
            "\u001b[K     |████████████████████████████████| 952 kB 44.3 MB/s \n",
            "\u001b[?25hCollecting typing-extensions>=3.6.4\n",
            "  Downloading typing_extensions-4.0.0-py3-none-any.whl (22 kB)\n",
            "Collecting zipp>=0.5\n",
            "  Downloading zipp-3.6.0-py3-none-any.whl (5.3 kB)\n",
            "Installing collected packages: zipp, typing-extensions, six, setuptools, pyrsistent, importlib-metadata, attrs, jsonschema\n",
            "  Attempting uninstall: zipp\n",
            "    Found existing installation: zipp 3.6.0\n",
            "    Uninstalling zipp-3.6.0:\n",
            "      Successfully uninstalled zipp-3.6.0\n",
            "  Attempting uninstall: typing-extensions\n",
            "    Found existing installation: typing-extensions 3.10.0.2\n",
            "    Uninstalling typing-extensions-3.10.0.2:\n",
            "      Successfully uninstalled typing-extensions-3.10.0.2\n",
            "  Attempting uninstall: six\n",
            "    Found existing installation: six 1.15.0\n",
            "    Uninstalling six-1.15.0:\n",
            "      Successfully uninstalled six-1.15.0\n",
            "  Attempting uninstall: setuptools\n",
            "    Found existing installation: setuptools 57.4.0\n",
            "    Uninstalling setuptools-57.4.0:\n",
            "      Successfully uninstalled setuptools-57.4.0\n",
            "  Attempting uninstall: pyrsistent\n",
            "    Found existing installation: pyrsistent 0.18.0\n",
            "    Uninstalling pyrsistent-0.18.0:\n",
            "      Successfully uninstalled pyrsistent-0.18.0\n",
            "  Attempting uninstall: importlib-metadata\n",
            "    Found existing installation: importlib-metadata 4.8.2\n",
            "    Uninstalling importlib-metadata-4.8.2:\n",
            "      Successfully uninstalled importlib-metadata-4.8.2\n",
            "  Attempting uninstall: attrs\n",
            "    Found existing installation: attrs 21.2.0\n",
            "    Uninstalling attrs-21.2.0:\n",
            "      Successfully uninstalled attrs-21.2.0\n",
            "  Attempting uninstall: jsonschema\n",
            "    Found existing installation: jsonschema 3.2.0\n",
            "    Uninstalling jsonschema-3.2.0:\n",
            "      Successfully uninstalled jsonschema-3.2.0\n",
            "\u001b[31mERROR: pip's dependency resolver does not currently take into account all the packages that are installed. This behaviour is the source of the following dependency conflicts.\n",
            "web3 5.25.0 requires typing-extensions<4,>=3.7.4.1; python_version < \"3.8\", but you have typing-extensions 4.0.0 which is incompatible.\n",
            "nbclient 0.5.9 requires jupyter-client>=6.1.5, but you have jupyter-client 5.3.5 which is incompatible.\n",
            "google-colab 1.0.0 requires six~=1.15.0, but you have six 1.16.0 which is incompatible.\n",
            "datascience 0.10.6 requires folium==0.2.1, but you have folium 0.8.3 which is incompatible.\n",
            "arviz 0.11.4 requires typing-extensions<4,>=3.7.4.3, but you have typing-extensions 4.0.0 which is incompatible.\n",
            "albumentations 0.1.12 requires imgaug<0.2.7,>=0.2.5, but you have imgaug 0.2.9 which is incompatible.\u001b[0m\n",
            "Successfully installed attrs-21.2.0 importlib-metadata-4.8.2 jsonschema-3.2.0 pyrsistent-0.18.0 setuptools-59.2.0 six-1.16.0 typing-extensions-4.0.0 zipp-3.6.0\n"
          ]
        },
        {
          "output_type": "display_data",
          "data": {
            "application/vnd.colab-display-data+json": {
              "pip_warning": {
                "packages": [
                  "pkg_resources",
                  "six"
                ]
              }
            }
          },
          "metadata": {}
        }
      ]
    },
    {
      "cell_type": "code",
      "metadata": {
        "id": "vTjxFMPrdZf3"
      },
      "source": [
        "# Import\n",
        "from pprint import pprint\n",
        "import copy\n",
        "from getpass import getpass\n",
        "from gql import Client, gql\n",
        "from gql.transport.requests import RequestsHTTPTransport\n",
        "from IPython.display import JSON, IFrame\n",
        "import requests\n",
        "import numpy as np\n",
        "from web3 import Web3\n",
        "from scipy.optimize import minimize\n",
        "\n",
        "import pandas as pd\n",
        "\n",
        "import gurobipy as gp\n",
        "from gurobipy import GRB\n",
        "\n",
        "from messari import Messari\n",
        "\n",
        "import matplotlib.pyplot as plt\n"
      ],
      "execution_count": null,
      "outputs": []
    },
    {
      "cell_type": "markdown",
      "metadata": {
        "id": "ai9GqtBZdZf3"
      },
      "source": [
        "## Setup client\n"
      ]
    },
    {
      "cell_type": "code",
      "metadata": {
        "id": "p-pqeWfSdZf4",
        "colab": {
          "base_uri": "https://localhost:8080/"
        },
        "outputId": "25cc342f-217c-4c3e-ddbd-f0d573b55433"
      },
      "source": [
        "# Set up client\n",
        "api_url = 'https://gateway.thegraph.com/network'\n",
        "\n",
        "token = getpass()\n",
        "\n",
        "client = Client(\n",
        "    transport=RequestsHTTPTransport(api_url, use_json=True, headers=dict(Authorization=f\"token {token}\")),\n",
        "    fetch_schema_from_transport=True,\n",
        ")"
      ],
      "execution_count": null,
      "outputs": [
        {
          "name": "stdout",
          "output_type": "stream",
          "text": [
            "··········\n"
          ]
        }
      ]
    },
    {
      "cell_type": "markdown",
      "metadata": {
        "id": "AdyJL8_z5YwP"
      },
      "source": [
        "# Allocations solver functions \n",
        "\n",
        "Let's make allocations an assignment problem and find the optimization for individual indexers\n",
        "\n",
        "## Steps\n",
        "\n",
        "1. Query info\n",
        "  \n",
        "  1.1 subgraph (signal and allocation)\n",
        "\n",
        "  1.2 indexer (token capacity, amount allocated on each subgraph)\n",
        "\n",
        "  1.3 network (total signal, total indexing rewards)\n",
        "\n",
        "  1.4 prices (Ethereum gas price converted to GRT)\n",
        "\n",
        "2. Calculate subgraph info if we unallocate\n",
        "\n",
        "3. Create model variables\n",
        "\n",
        "  3.1 allocation amount variable (independent)\n",
        "\n",
        "  3.2 allocation free variable (since Gurobi goesn't allow variables in divisior)\n",
        "\n",
        "  3.3 allocation boolean (for calculating costs)\n",
        "\n",
        "4. Create Constraints\n",
        "\n",
        "  4.1 Allocation amount constrainted to capacity\n",
        "\n",
        "  4.2 Free variable constraint \n",
        "  \n",
        "  4.3 Set boolean \n",
        "\n",
        "5. Solve with different algorithms!\n"
      ]
    },
    {
      "cell_type": "markdown",
      "metadata": {
        "id": "l0EIG40a_rs4"
      },
      "source": [
        "## Data processing"
      ]
    },
    {
      "cell_type": "code",
      "metadata": {
        "id": "dlDUhYuRCK3c"
      },
      "source": [
        "indexers = {\n",
        "    'lemnis': {\n",
        "        'address': '0xc60d0c8c74b5d3a33ed51c007ebae682490de261'\n",
        "        },\n",
        "    'prime1': {\n",
        "        'address': '0x6ac85b9d834b51b14a7b0ed849bb5199e04c05c5'\n",
        "        },\n",
        "    'prime2': {\n",
        "        'address': '0x6125ea331851367716bee301ecde7f38a7e429e7'\n",
        "        }\n",
        "}"
      ],
      "execution_count": null,
      "outputs": []
    },
    {
      "cell_type": "code",
      "metadata": {
        "id": "-gK4e8gCdZf4"
      },
      "source": [
        "def query(query_string, params = {}):\n",
        "  query_gql = gql(query_string)\n",
        "  result = client.execute(query_gql, variable_values=params)\n",
        "  return result\n",
        "  \n",
        "subgraphs_query = \"\"\"\n",
        "  query getSubgraphs {\n",
        "    subgraphs(\n",
        "      first: 1000\n",
        "      skip: 0\n",
        "      orderBy: signalledTokens\n",
        "      orderDirection: desc\n",
        "    ) {\n",
        "      id\n",
        "      displayName\n",
        "      owner {\n",
        "        id\n",
        "      }\n",
        "      currentVersion {\n",
        "        id\n",
        "        createdAt\n",
        "        subgraphDeployment {\n",
        "          id\n",
        "          ipfsHash\n",
        "          signalledTokens\n",
        "          stakedTokens\n",
        "          indexingRewardAmount\n",
        "          queryFeesAmount\n",
        "          deniedAt\n",
        "          versions(first: 1000) {\n",
        "            id\n",
        "            subgraph {\n",
        "              id\n",
        "              currentVersion {\n",
        "                id\n",
        "                subgraphDeployment {\n",
        "                  id\n",
        "                }\n",
        "              }\n",
        "            }\n",
        "          }\n",
        "        }\n",
        "      }\n",
        "    }\n",
        "  }\n",
        "\"\"\"\n",
        "\n",
        "# ordered in Lemnis, Prime-1, Prime-2\n",
        "indexers_query = \"\"\"\n",
        "query getIndexers {\n",
        "  indexers(\n",
        "    where: {\n",
        "      id_in: [\n",
        "        \"0xc60d0c8c74b5d3a33ed51c007ebae682490de261\", \n",
        "        \"0x6ac85b9d834b51b14a7b0ed849bb5199e04c05c5\",\n",
        "        \"0x6125ea331851367716bee301ecde7f38a7e429e7\"\n",
        "        ]\n",
        "      }\n",
        "    ){\n",
        "    id\n",
        "    indexingRewardCut\n",
        "    indexingRewardEffectiveCut\n",
        "    allocatedTokens\n",
        "    availableStake\n",
        "    tokenCapacity\n",
        "    stakedTokens\n",
        "    delegatedTokens\n",
        "    allocations{\n",
        "      allocatedTokens\n",
        "      subgraphDeployment{\n",
        "        ipfsHash\n",
        "        signalledTokens\n",
        "        stakedTokens\n",
        "        indexingRewardAmount\n",
        "      }\n",
        "    }\n",
        "  }\n",
        "}\n",
        "\"\"\"\n",
        "\n",
        "network_query = \"\"\"{\n",
        "  graphNetwork(id: \"1\"){\n",
        "    totalTokensSignalled\n",
        "    totalTokensAllocated\n",
        "    totalSupply\n",
        "    epochLength\n",
        "    networkGRTIssuance\n",
        "  }\n",
        "}\n",
        "\"\"\"\n"
      ],
      "execution_count": null,
      "outputs": []
    },
    {
      "cell_type": "code",
      "metadata": {
        "id": "vArA1hOPdZf6"
      },
      "source": [
        "subgraphs_data = query(subgraphs_query)\n",
        "indexers_data = query(indexers_query)\n",
        "network_data = query(network_query)"
      ],
      "execution_count": null,
      "outputs": []
    },
    {
      "cell_type": "markdown",
      "metadata": {
        "id": "br0q4y61C21z"
      },
      "source": [
        "Got the data! clean it up\n",
        "\n",
        "\n",
        "Network"
      ]
    },
    {
      "cell_type": "code",
      "metadata": {
        "id": "XREmhxnwCDfx"
      },
      "source": [
        "totalTokensSignalled = float(network_data['graphNetwork']['totalTokensSignalled'])/1e18\n",
        "totalTokensAllocated = float(network_data['graphNetwork']['totalTokensAllocated'])/1e18\n",
        "totalSupply = float(network_data['graphNetwork']['totalSupply'])/1e18\n",
        "numBlockInDay = float(network_data['graphNetwork']['epochLength'])\n",
        "networkGRTIssuance = float(network_data['graphNetwork']['networkGRTIssuance'])/1e18\n",
        "\n",
        "Y = 365\n",
        "## apparently 6500 is more accurate than numBlockInDay param\n",
        "# daily_rewards = (totalSupply * networkGRTIssuance - totalSupply) * numBlockInDay\n",
        "daily_rewards = (totalSupply * networkGRTIssuance - totalSupply) * 6500"
      ],
      "execution_count": null,
      "outputs": []
    },
    {
      "cell_type": "markdown",
      "metadata": {
        "id": "I5t3jBz3DAQ8"
      },
      "source": [
        "Indexers"
      ]
    },
    {
      "cell_type": "code",
      "metadata": {
        "id": "im2RSucUmqd7"
      },
      "source": [
        "# indexers\n",
        "for indexer in indexers_data['indexers']:\n",
        "  for indexer_name, data in indexers.items():\n",
        "    if indexer['id'] == data['address']: indexers_data[indexer_name] = indexer\n",
        "\n",
        "del indexers_data['indexers']\n",
        "\n",
        "# indexer allocations\n",
        "for indexer_name, indexer in indexers_data.items():\n",
        "  indexer['indexingRewardEffectiveCut'] = float(indexer['indexingRewardEffectiveCut'])\n",
        "  indexer['indexingRewardCut'] = float(indexer['indexingRewardCut'])/1e6\n",
        "  indexer['stakedTokens'] = float(indexer['stakedTokens'])/1e18\n",
        "  indexer['delegatedTokens'] = float(indexer['delegatedTokens'])/1e18\n",
        "  indexer['allocatedTokens'] = float(indexer['allocatedTokens'])/1e18\n",
        "  indexer_allocations_temp = dict()\n",
        "  for allocation in indexer['allocations']:\n",
        "    allocation['ipfsHash'] = allocation['subgraphDeployment']['ipfsHash']\n",
        "    allocation['allocatedTokens'] = float(allocation['allocatedTokens'])/1e18\n",
        "    allocation['stakedTokens'] = float(allocation['subgraphDeployment']['stakedTokens'])/1e18\n",
        "    allocation['signalledTokens'] = float(allocation['subgraphDeployment']['signalledTokens'])/1e18\n",
        "    indexer_allocations_temp[allocation['ipfsHash']] = allocation\n",
        "  indexer['allocations'] = indexer_allocations_temp\n",
        "\n",
        "\n",
        "# { indexer_name : ( token Capacity, current unallocated ) }\n",
        "# use sum of the two to pre-calculate\n",
        "indexer_capacities = dict()\n",
        "for indexer_name in indexers:\n",
        "  indexer_capacities[indexer_name] = ((float(indexers_data[indexer_name]['tokenCapacity']))/1e18, (float(indexers_data[indexer_name]['availableStake']))/1e18)\n"
      ],
      "execution_count": null,
      "outputs": []
    },
    {
      "cell_type": "code",
      "metadata": {
        "id": "8iOT7XibZNmf"
      },
      "source": [
        "# example\n",
        "# indexers_data['lemnis']['allocations']['QmbL5761GrNnT8X3Emeny6NbXQxDwXxdpiER2boASKBhFW']"
      ],
      "execution_count": null,
      "outputs": []
    },
    {
      "cell_type": "markdown",
      "metadata": {
        "id": "tkHbg29UDHal"
      },
      "source": [
        "Subgraphs"
      ]
    },
    {
      "cell_type": "code",
      "metadata": {
        "id": "hmfmlMuhdZf6"
      },
      "source": [
        "# flatten name\n",
        "for subgraph in subgraphs_data['subgraphs']:\n",
        "  subgraph['currentVersion']['subgraphDeployment']['displayName'] = subgraph['displayName']\n",
        "\n",
        "# format into a dictionary with token factor         \n",
        "subgraphs = {subg['currentVersion']['subgraphDeployment']['ipfsHash'] : \n",
        "              {'id': subg['currentVersion']['subgraphDeployment']['id'], \n",
        "               'ipfsHash': subg['currentVersion']['subgraphDeployment']['ipfsHash'], \n",
        "               'displayName': subg['currentVersion']['subgraphDeployment']['displayName'], \n",
        "               'signalledTokens': (float(subg['currentVersion']['subgraphDeployment']['signalledTokens'])/1e18), \n",
        "               'stakedTokens': (float(subg['currentVersion']['subgraphDeployment']['stakedTokens'])/1e18)} for subg in subgraphs_data['subgraphs']}\n",
        "\n",
        "# for easy access later\n",
        "subgraph_ipfs_hashes = list(set([subg['ipfsHash'] for id, subg in subgraphs.items()]))\n",
        "current_allocations = {subg['ipfsHash']: (subg['stakedTokens']) for id, subg in subgraphs.items()}\n",
        "current_signals = {subg['ipfsHash']: (subg['signalledTokens']) for id, subg in subgraphs.items()}"
      ],
      "execution_count": null,
      "outputs": []
    },
    {
      "cell_type": "code",
      "metadata": {
        "id": "Dx2xSStB759p"
      },
      "source": [
        "# subgraph daily rewards\n",
        "subgraph_daily_rewards_dict = {}\n",
        "for subgraph_hash, subgraph in subgraphs.items():\n",
        "  subgraph_daily_rewards_dict[subgraph_hash] = daily_rewards * ( subgraph['signalledTokens'] / totalTokensSignalled )"
      ],
      "execution_count": null,
      "outputs": []
    },
    {
      "cell_type": "code",
      "metadata": {
        "id": "BoTzTk9ox5MT"
      },
      "source": [
        "def remove_allocations(indexer_allocations, subgraphs_allocation):\n",
        "  return {ipfs : subgraphs_allocation[ipfs] - indexer_allocations[ipfs]['allocatedTokens'] if ipfs in indexer_allocations else subgraphs_allocation[ipfs]\n",
        "          for ipfs in subgraphs_allocation}\n",
        "\n",
        "stripped_allocations = dict()\n",
        "for indexer_name in indexers:\n",
        "  stripped_allocations[indexer_name] = remove_allocations(indexers_data[indexer_name]['allocations'], current_allocations)\n",
        "stripped_all = remove_allocations(indexers_data['lemnis']['allocations'], remove_allocations(indexers_data['prime2']['allocations'], stripped_allocations['prime1']))\n"
      ],
      "execution_count": null,
      "outputs": []
    },
    {
      "cell_type": "code",
      "metadata": {
        "colab": {
          "base_uri": "https://localhost:8080/"
        },
        "id": "n5aLb3JwDGd9",
        "outputId": "18728a3c-f8f6-41ed-ad65-8a8cd1ce5796"
      },
      "source": [
        "indexer_daily_rewards_dict = { 'prime1': {}, 'prime2': {}, 'lemnis': {} }\n",
        "for indexer_name, indexer in indexers_data.items():\n",
        "  for hash, subg in indexer['allocations'].items():\n",
        "    subg['allocation_daily_rewards'] = subg['allocatedTokens'] * (subgraph_daily_rewards_dict[hash] / subg['stakedTokens']) if hash in subgraph_daily_rewards_dict else 0\n",
        "  total_daily_rewards = sum([subg['allocation_daily_rewards'] for subg in list(indexer['allocations'].values())])\n",
        "  indexer_daily_rewards_dict[indexer_name] = (total_daily_rewards, total_daily_rewards / (indexer['stakedTokens']+indexer['delegatedTokens']) * Y * (1 - indexer['indexingRewardEffectiveCut']))\n",
        "\n",
        "\n",
        "def calculate_rewards(indexer_name, allocation_amounts, stripped_allocations):\n",
        "  indexer = indexers_data[indexer_name]\n",
        "  total_daily_rewards = 0\n",
        "  for ipfs in allocation_amounts:\n",
        "    try:\n",
        "      total_daily_rewards += allocation_amounts[ipfs] * subgraph_daily_rewards_dict[ipfs] / (allocation_amounts[ipfs] + stripped_allocations[ipfs])\n",
        "    except ZeroDivisionError:\n",
        "      continue\n",
        "  return (total_daily_rewards, total_daily_rewards / (indexer['stakedTokens']+indexer['delegatedTokens']) * Y * (1 - indexer['indexingRewardEffectiveCut']))\n",
        "\n",
        "\n",
        "# # current daily rewards and estimated APR - use this to check calculation precision with Ryabina.io\n",
        "print('current estimated daily rewards and estimated APR')\n",
        "current_allocation_by_indexer = dict()\n",
        "for indexer_name in indexers:\n",
        "  current_allocation_by_indexer[indexer_name] = dict()\n",
        "  for subg_ipfs in subgraphs:\n",
        "    current_allocation_by_indexer[indexer_name][subg_ipfs] = indexers_data[indexer_name]['allocations'][subg_ipfs]['allocatedTokens'] if subg_ipfs in indexers_data[indexer_name]['allocations'] else 0\n",
        "  print(f'{indexer_name}: {calculate_rewards(indexer_name, current_allocation_by_indexer[indexer_name], stripped_allocations[indexer_name])}')\n"
      ],
      "execution_count": null,
      "outputs": [
        {
          "output_type": "stream",
          "name": "stdout",
          "text": [
            "current estimated daily rewards and estimated APR\n",
            "lemnis: (49698.38157326061, 0.08456483351425986)\n",
            "prime1: (656.424352933117, 0.7150225422246148)\n",
            "prime2: (38660.31227245611, 0.10358083908064783)\n"
          ]
        }
      ]
    },
    {
      "cell_type": "markdown",
      "metadata": {
        "id": "0b0NEPPExo4-"
      },
      "source": [
        "Remove our current allocation to calculate the network when we all unstake"
      ]
    },
    {
      "cell_type": "markdown",
      "metadata": {
        "id": "lOY4qpTFYfvq"
      },
      "source": [
        "# Allocation model main parameters"
      ]
    },
    {
      "cell_type": "code",
      "metadata": {
        "id": "3j0z4TdxFIsJ"
      },
      "source": [
        "blacklist_subgraphs = [\n",
        "                      # #  # subgraph have issues\n",
        "                      #  'QmNRkaVUwUQAwPwWgdQHYvw53A5gh3CP3giWnWQZdA2BTE', # Opyn\n",
        "                       'QmaaDA7XVVktfxCLMgfwG1z3KM8DSMoLkbemkTt9mQT8Qf', # eip721\n",
        "                      #  'QmZdsSbRwVD7VVVm5WGxZZC6HYvbjnFb4hcwvQ4fTs5bxA', # mStable - not fixed yet\n",
        "\n",
        "                      #  # large subgraph, need off-chain sync\n",
        "                      #  'QmZLFFChgZu6j4q8twaJn8xF74WgGgZ1WKEG6Cigesr49R', # Synthetix - Mainnet Mega\n",
        "                      #  'QmVf6LXmnRGexmsA6BqiVdwtL22fDVN289pLU8qEhr5GqC', # 0x-exchange-proxy\n",
        "                       'QmQj3DDJzo9mS9m7bHriw8XdnU3od65HSThebeeDBQiujP', # Wrapped ETH\n",
        "                      #  'QmSqNTuVwKTYLXdBVULroCKh3pUNNBVUmcu8tXJAXXdeUr',  # USDC Protocol\n",
        "                      \n",
        "                      # #  # others\n",
        "                       'QmYEq9PxgUEstxqE853qLMJ9MbowNrVVMGifFc8mUaHhhT', # Eth user lp tx, trouble syncing \n",
        "                       'QmWKj2tbgJKFgK1qw6oYFxW39AcxYvXpMcR9Kdtwi5yh56' # Cream iron bank\n",
        "]"
      ],
      "execution_count": null,
      "outputs": []
    },
    {
      "cell_type": "code",
      "metadata": {
        "id": "YSAISHYI9VUA",
        "colab": {
          "base_uri": "https://localhost:8080/"
        },
        "outputId": "feda0ca5-80a2-4a40-df56-4c42c085e7c0"
      },
      "source": [
        "lowerbound = 10000\n",
        "upperbound = 50000\n",
        "\n",
        "filtered_subgraph_ipfs_hashes = list(\n",
        "    filter(\n",
        "        lambda hash:\n",
        "        (subgraphs[hash]['signalledTokens'] >=  lowerbound)\n",
        "         & (subgraphs[hash]['stakedTokens'] >=  lowerbound)\n",
        "        #  & (subgraphs[hash]['signalledTokens'] <=  upperbound)\n",
        "         & (hash not in blacklist_subgraphs)\n",
        "        #  & (hash not in indexers_data[indexer]['allocations'])\n",
        "         , \n",
        "    subgraph_ipfs_hashes))\n",
        "\n",
        "print(f'picking {len(filtered_subgraph_ipfs_hashes)} subgraphs out of {len(subgraph_ipfs_hashes)}')\n"
      ],
      "execution_count": null,
      "outputs": [
        {
          "output_type": "stream",
          "name": "stdout",
          "text": [
            "picking 31 subgraphs out of 235\n"
          ]
        }
      ]
    },
    {
      "cell_type": "markdown",
      "metadata": {
        "id": "41gGriRQoiKs"
      },
      "source": [
        "## Cost data\n",
        "\n",
        "Eth gas price (transaction size seems to be a constant of 0.000283), and convert gas fee to GRT"
      ]
    },
    {
      "cell_type": "code",
      "metadata": {
        "colab": {
          "base_uri": "https://localhost:8080/"
        },
        "id": "r_0TdU_Rj_dU",
        "outputId": "42fd5540-87da-4bc2-dded-a3d05f1acea6"
      },
      "source": [
        "# grt per transaction, with default transaction size = 0.000283\n",
        "# tx fee = tx size * gas fee (in eth)\n",
        "TX_SIZE = 0.000283 \n",
        "\n",
        "# initialize api client\n",
        "messari = Messari()\n",
        "w3 = Web3(Web3.HTTPProvider(\"https://erigon-mainnet--rpc.datahub.figment.io/apikey/0db3916394d1bd6202bc4d582415411d\"))\n",
        "  \n",
        "\n",
        "# cost per transaction (estimate)\n",
        "def gas_fee():\n",
        "  return float(w3.eth.get_block('latest')['baseFeePerGas'])/1e9\n",
        "\n",
        "# convert 1 eth to grt\n",
        "def eth_to_grt():\n",
        "  eth_resp = messari.get_asset_market_data(asset_key='eth', fields='market_data/price_usd')\n",
        "  grt_resp = messari.get_asset_market_data(asset_key='grt', fields='market_data/price_usd')\n",
        "  eth_in_usd = eth_resp['data']['market_data']['price_usd']\n",
        "  grt_in_usd = grt_resp['data']['market_data']['price_usd']\n",
        "\n",
        "  return eth_in_usd / grt_in_usd\n",
        "\n",
        "# currently not used\n",
        "def median_gas_fee():\n",
        "  eth_asset_resp = messari.get_asset_metrics(asset_key='eth', fields='slug,on_chain_data/median_fee_native_units')\n",
        "\n",
        "  return (eth_asset_resp['data']['on_chain_data']['median_fee_native_units'])\n",
        "\n",
        "def tx_fee_in_eth():\n",
        "  return TX_SIZE * gas_fee()\n",
        "\n",
        "def tx_fee_in_grt():\n",
        "  return eth_to_grt() * tx_fee_in_eth()\n",
        "\n",
        "# estimate gas fee\n",
        "print('gas fee: ', gas_fee())\n",
        "print('tx fee in eth: ', TX_SIZE * gas_fee())\n",
        "print('tx fee in grt: ', tx_fee_in_grt())"
      ],
      "execution_count": null,
      "outputs": [
        {
          "output_type": "stream",
          "name": "stdout",
          "text": [
            "gas fee:  100.593164499\n",
            "tx fee in eth:  0.028467865553217\n",
            "tx fee in grt:  136.04541973308983\n"
          ]
        }
      ]
    },
    {
      "cell_type": "markdown",
      "metadata": {
        "id": "-vehmFoYBIZj"
      },
      "source": [
        "# Just One (clean and should work)"
      ]
    },
    {
      "cell_type": "code",
      "metadata": {
        "colab": {
          "base_uri": "https://localhost:8080/"
        },
        "id": "HVMQ3yWE-K4C",
        "outputId": "05e9738a-7b92-4269-a4e6-69d37146d624"
      },
      "source": [
        "print(len(filtered_subgraph_ipfs_hashes))\n",
        "print(indexer_capacities)\n",
        "print(indexer_daily_rewards_dict)\n",
        "print(tx_fee_in_grt()/eth_to_grt())"
      ],
      "execution_count": null,
      "outputs": [
        {
          "output_type": "stream",
          "name": "stdout",
          "text": [
            "31\n",
            "{'lemnis': (188039948.02407995, 12498306.024079971), 'prime1': (1490028.8200429277, 0.8200429276810135), 'prime2': (132122412.96887879, 181323.96887878006)}\n",
            "{'prime1': (656.4244031135031, 0.7150225968845418), 'prime2': (38660.284547144416, 0.10358286971662485), 'lemnis': (49698.38537245539, 0.08456483997882197)}\n",
            "0.05584519749773014\n"
          ]
        }
      ]
    },
    {
      "cell_type": "code",
      "metadata": {
        "colab": {
          "base_uri": "https://localhost:8080/"
        },
        "id": "_CCVMl4hIuiR",
        "outputId": "61d4a34e-5ff3-4cd7-92f1-441c280d4de0"
      },
      "source": [
        "indexer = 'lemnis'\n",
        "# allocation_capacity = sum(indexer_capacities[indexer])\n",
        "# allocation_capacity = indexer_capacities[indexer][0]\n",
        "allocation_capacity = 175000000\n",
        "\n",
        "print(allocation_capacity) "
      ],
      "execution_count": null,
      "outputs": [
        {
          "output_type": "stream",
          "name": "stdout",
          "text": [
            "175000000\n"
          ]
        }
      ]
    },
    {
      "cell_type": "code",
      "metadata": {
        "colab": {
          "base_uri": "https://localhost:8080/"
        },
        "id": "ACZ93y-HBHxB",
        "outputId": "7fb30d86-513f-4749-c77e-6b65e35c034e"
      },
      "source": [
        "factory = gp.Model('Allocation calculator')\n",
        "\n",
        "\n",
        "subgraph_allocations = stripped_allocations[indexer]\n",
        "hashes = filtered_subgraph_ipfs_hashes\n",
        "\n",
        "# Variable declaration \n",
        "x_allocate = factory.addVars(hashes, name=\"SubgraphAllocation\")\n",
        "y_allocate = factory.addVars(hashes, name=\"SubgraphAllocationFree\")\n",
        "\n",
        "# Allocation Capacity constraint\n",
        "AllocationCap = factory.addConstr((gp.quicksum(x_allocate) == allocation_capacity),\n",
        "                   name = \"Capacity\")\n",
        "\n",
        "# Free variable constraint\n",
        "FreeVarEquates = factory.addConstrs((y_allocate[i] * (subgraph_allocations[i] + x_allocate[i]) == x_allocate[i] for i in hashes),\n",
        "                   name = \"Free\")\n",
        "\n",
        "#0. Objective Function\n",
        "obj = gp.quicksum(( current_signals[i] * y_allocate[i] ) for i in hashes)\n",
        "\n",
        "factory.setObjective(obj, GRB.MAXIMIZE)\n",
        "\n",
        "factory.Params.NonConvex=2\n",
        "factory.Params.TIME_LIMIT = 240\n",
        "\n",
        "factory.optimize()\n"
      ],
      "execution_count": 53,
      "outputs": [
        {
          "output_type": "stream",
          "name": "stdout",
          "text": [
            "Set parameter NonConvex to value 2\n",
            "Set parameter TimeLimit to value 240\n",
            "Gurobi Optimizer version 9.5.0 build v9.5.0rc5 (linux64)\n",
            "Thread count: 1 physical cores, 2 logical processors, using up to 2 threads\n",
            "Optimize a model with 1 rows, 62 columns and 31 nonzeros\n",
            "Model fingerprint: 0x120b0c7d\n",
            "Model has 31 quadratic constraints\n",
            "Coefficient statistics:\n",
            "  Matrix range     [1e+00, 1e+00]\n",
            "  QMatrix range    [1e+00, 1e+00]\n",
            "  QLMatrix range   [1e+00, 2e+08]\n",
            "  Objective range  [1e+04, 3e+05]\n",
            "  Bounds range     [0e+00, 0e+00]\n",
            "  RHS range        [2e+08, 2e+08]\n",
            "Warning: Quadratic constraints contain large coefficients on linear part\n",
            "         Consider reformulating model or setting NumericFocus parameter\n",
            "         to avoid numerical issues.\n",
            "\n",
            "Continuous model is non-convex -- solving as a MIP\n",
            "\n",
            "Presolve time: 0.00s\n",
            "Presolved: 125 rows, 63 columns, 186 nonzeros\n",
            "Presolved model has 31 bilinear constraint(s)\n",
            "Variable types: 63 continuous, 0 integer (0 binary)\n",
            "\n",
            "Root relaxation: objective 2.536306e+05, 58 iterations, 0.00 seconds (0.00 work units)\n",
            "\n",
            "    Nodes    |    Current Node    |     Objective Bounds      |     Work\n",
            " Expl Unexpl |  Obj  Depth IntInf | Incumbent    BestBd   Gap | It/Node Time\n",
            "\n",
            "     0     0 253630.645    0    2          - 253630.645      -     -    0s\n",
            "H    0     0                    129400.48402 253630.645  96.0%     -    0s\n",
            "H    0     0                    206682.14489 253630.645  22.7%     -    0s\n",
            "     0     0 253446.306    0    3 206682.145 253446.306  22.6%     -    0s\n",
            "     0     0 252896.227    0    4 206682.145 252896.227  22.4%     -    0s\n",
            "     0     0 251811.243    0    5 206682.145 251811.243  21.8%     -    0s\n",
            "     0     0 251268.751    0    5 206682.145 251268.751  21.6%     -    0s\n",
            "     0     0 250997.505    0    5 206682.145 250997.505  21.4%     -    0s\n",
            "     0     0 250861.882    0    5 206682.145 250861.882  21.4%     -    0s\n",
            "     0     0 250819.381    0    5 206682.145 250819.381  21.4%     -    0s\n",
            "     0     0 246407.234    0    6 206682.145 246407.234  19.2%     -    0s\n",
            "     0     2 246407.234    0    6 206682.145 246407.234  19.2%     -    0s\n",
            " 25925 18547 215144.700   47   13 206682.145 220181.600  6.53%   3.8    5s\n",
            " 56973 40891 212118.727   83   18 206682.145 218796.804  5.86%   3.6   10s\n",
            " 88925 63015 211025.855   51   15 206682.145 218086.367  5.52%   3.6   15s\n",
            " 120825 84993     cutoff  100      206682.145 217540.141  5.25%   3.6   20s\n",
            " 152532 106440 212530.024   93   20 206682.145 217191.138  5.08%   3.5   25s\n",
            " 183635 128173 206973.817  142   17 206682.145 216909.434  4.95%   3.6   30s\n",
            " 214108 148968 209735.117  114   24 206682.145 216671.272  4.83%   3.6   35s\n",
            " 245388 170656 213321.947   77   15 206682.145 216464.944  4.73%   3.6   40s\n",
            " 276421 191779     cutoff  109      206682.145 216288.408  4.65%   3.6   45s\n",
            " 307158 212600 207224.130  115   19 206682.145 216132.393  4.57%   3.6   50s\n",
            " 338472 233588 213122.430   92   21 206682.145 215976.275  4.50%   3.6   55s\n",
            " 369082 254386 207157.930  103   19 206682.145 215854.580  4.44%   3.6   60s\n",
            " 400799 274983 213008.987   72   17 206682.145 215740.924  4.38%   3.6   65s\n",
            " 431748 295488 210209.696  108   21 206682.145 215635.981  4.33%   3.6   70s\n",
            " 462587 315891 210755.291  101   22 206682.145 215543.459  4.29%   3.6   75s\n",
            " 493004 336170 207088.017  103   21 206682.145 215459.640  4.25%   3.6   80s\n",
            " 524288 357128 206893.267  122   19 206682.145 215366.679  4.20%   3.6   85s\n",
            " 555417 377299 207028.387   65   14 206682.145 215284.030  4.16%   3.6   90s\n",
            " 586063 397531     cutoff   85      206682.145 215211.446  4.13%   3.6   95s\n",
            " 616639 417591     cutoff   94      206682.145 215139.816  4.09%   3.6  100s\n",
            " 647467 437233 207436.635   90   16 206682.145 215076.855  4.06%   3.6  105s\n",
            " 677882 456990 207231.493   87   15 206682.145 215016.589  4.03%   3.6  110s\n",
            " 708936 476890 207696.462  111   20 206682.145 214954.869  4.00%   3.6  115s\n",
            " 739439 496599     cutoff  111      206682.145 214900.542  3.98%   3.6  120s\n",
            " 770393 516641 209192.631   64   14 206682.145 214846.538  3.95%   3.6  125s\n",
            " 801359 536355 211318.037   83   18 206682.145 214795.787  3.93%   3.6  130s\n",
            " 831895 556241 206891.076  117   17 206682.145 214749.676  3.90%   3.6  135s\n",
            " 863221 575897 206793.897  104   22 206682.145 214700.209  3.88%   3.6  140s\n",
            " 893207 595071 209620.960  105   22 206682.145 214656.498  3.86%   3.6  145s\n",
            " 923671 614763 206875.231  118   17 206682.145 214611.747  3.84%   3.6  150s\n",
            " 954557 634443 206712.495  136   20 206682.145 214571.202  3.82%   3.6  155s\n",
            " 985569 654117 207083.499   93   16 206682.145 214530.889  3.80%   3.6  160s\n",
            " 1016432 673452 206808.040  116   17 206682.145 214490.714  3.78%   3.6  165s\n",
            " 1047227 692657 211941.061   85   19 206682.145 214450.488  3.76%   3.6  170s\n",
            " 1078422 711874     cutoff   48      206682.145 214412.819  3.74%   3.6  175s\n",
            " 1108501 730981 206793.353  112   18 206682.145 214378.628  3.72%   3.6  180s\n",
            " 1138972 749940 206771.874   98   18 206682.145 214343.700  3.71%   3.6  185s\n",
            " 1169732 769264 210361.947   63   16 206682.145 214309.240  3.69%   3.6  190s\n",
            " 1200366 787698 207011.257   86   16 206682.145 214278.130  3.68%   3.6  195s\n",
            " 1230966 806714     cutoff  115      206682.145 214244.924  3.66%   3.6  200s\n",
            " 1260846 825396 209555.485  100   18 206682.145 214214.323  3.64%   3.7  205s\n",
            " 1291372 844220     cutoff  121      206682.145 214184.109  3.63%   3.7  210s\n",
            " 1322057 863055     cutoff   89      206682.145 214153.468  3.61%   3.7  215s\n",
            " 1352762 882358 206729.341  108   18 206682.145 214123.568  3.60%   3.7  220s\n",
            " 1383881 901377 208374.737  105   18 206682.145 214094.415  3.59%   3.7  225s\n",
            " 1413896 920088 206768.806  121   18 206682.145 214067.367  3.57%   3.7  230s\n",
            " 1444474 938774     cutoff  107      206682.145 214040.544  3.56%   3.7  235s\n",
            "\n",
            "Cutting planes:\n",
            "  RLT: 2\n",
            "\n",
            "Explored 1475293 nodes (5397394 simplex iterations) in 240.01 seconds (63.38 work units)\n",
            "Thread count was 2 (of 2 available processors)\n",
            "\n",
            "Solution count 2: 206682 129400 \n",
            "\n",
            "Time limit reached\n",
            "Best objective 2.066821448873e+05, best bound 2.140107018515e+05, gap 3.5458%\n"
          ]
        }
      ]
    },
    {
      "cell_type": "code",
      "metadata": {
        "colab": {
          "base_uri": "https://localhost:8080/"
        },
        "id": "CvNAnjtdBQhm",
        "outputId": "424b3a7a-6b76-45bd-f87e-ff778035d67d"
      },
      "source": [
        "# Print output\n",
        "print('indexer: ' + indexer)\n",
        "print('lowerbound: ' + str(lowerbound))\n",
        "# print(\"currently allocated: \" + str(sum(list(current_allocation_by_indexer[indexer].values()))))\n",
        "print(\"allocation_capacity: \" + str(allocation_capacity))\n",
        "# cur_val = 0\n",
        "# for i in current_allocation_by_indexer[indexer]:\n",
        "#   if i in current_signals:\n",
        "#     cur_val += current_signals[i] / current_allocations[i] * current_allocation_by_indexer[indexer][i]\n",
        "# print(\"current value \", cur_val)\n",
        "print(\"Objective value \", factory.ObjVal)\n",
        "\n",
        "result_allocation_dictionary = {'lemnis':{}, 'prime1':{},'prime2':{}}\n",
        "sum_allo = 0\n",
        "num_tx = 0\n",
        "for x in x_allocate.items():\n",
        "  if (int(x[1].x) != 0): \n",
        "    sum_allo += int(x[1].x)\n",
        "    num_tx += 1\n",
        "  # else:\n",
        "    # print (f'no {x[0]}')\n",
        "\n",
        "  result_allocation_dictionary[indexer][x[0]] = int(x[1].x)\n",
        "\n",
        "num_days = 14\n",
        "cost = tx_fee_in_grt()\n",
        "# # if we force cost to be \n",
        "# cost = 0.03 * eth_to_grt()\n",
        "\n",
        "edr, apr = calculate_rewards(indexer, result_allocation_dictionary[indexer], stripped_allocations[indexer])\n",
        "cedr, capr = calculate_rewards(indexer, current_allocation_by_indexer[indexer], stripped_allocations[indexer])\n",
        "\n",
        "print(\"token_allocated: \" + str(sum_allo))\n",
        "print(\"extra tokens: \" + str(allocation_capacity-sum_allo))\n",
        "print(f'tx_fee * num_tx = {cost} * {num_tx} = {cost * num_tx} ; cost in eth per tx:  {tx_fee_in_eth()} ; eth needed to open: {cost * num_tx / eth_to_grt()}')\n",
        "print(f'current daily reward, APR: {indexer_daily_rewards_dict[indexer]}')\n",
        "print(f'estimated daily reward, APR: {edr, apr}')\n",
        "print(f'Assume we need 2.3 tx for each allocation: open, close, claim. Assume we leave this for {num_days} days')\n",
        "print(f'edr * num_days - 2.3 * cost * num_tx = {edr} * {num_days} - 2.3 * {cost} * {num_tx} = {edr * num_days - 2.3 * cost * num_tx}')\n",
        "print(f'if cost == 150GRT then               = {edr} * {num_days} - 2.3 * {150} * {num_tx} = {edr * num_days - 2.3 * 150 * num_tx}')\n",
        "print(f'compared to not touch this for {num_days} days: cedr * num_days  = {cedr} * {num_days} = {cedr * num_days}')\n",
        "\n",
        "\n",
        "always_commands(x_allocate)\n",
        "\n",
        "\n"
      ],
      "execution_count": null,
      "outputs": [
        {
          "output_type": "stream",
          "name": "stdout",
          "text": [
            "indexer: prime2\n",
            "lowerbound: 20000\n",
            "allocation_capacity: 132122412.96887879\n",
            "Objective value  162028.69027015072\n",
            "token_allocated: 132122402\n",
            "extra tokens: 10.968878790736198\n",
            "tx_fee * num_tx = 280.5401071839913 * 23 = 6452.422465231801 ; cost in eth per tx:  0.059116720512635 ; eth needed to open: 1.3596963801211457\n",
            "current daily reward, APR: (38660.284547144416, 0.10358286971662485)\n",
            "estimated daily reward, APR: (39493.5092765992, 0.1058153366942162)\n",
            "Assume we need 2.3 tx for each allocation: open, close, claim. Assume we leave this for 14 days\n",
            "edr * num_days - 2.3 * cost * num_tx = 39493.5092765992 * 14 - 2.3 * 280.5401071839913 * 23 = 538068.5582023556\n",
            "if cost == 150GRT then               = 39493.5092765992 * 14 - 2.3 * 150 * 23 = 544974.1298723888\n",
            "compared to not touch this for 14 days: cedr * num_days  = 38660.28454714442 * 14 = 541243.9836600219\n",
            "----------------- always commands -----------------\n",
            "graph indexer rules set QmNRkaVUwUQAwPwWgdQHYvw53A5gh3CP3giWnWQZdA2BTE decisionBasis always parallelAllocations 1 allocationAmount 22154764\n",
            "graph indexer rules set QmTYMx6Ls53MfqAPYbPwMyt45KKzayznc2kxeDiwmgvtF9 decisionBasis always parallelAllocations 1 allocationAmount 1338528\n",
            "graph indexer rules set QmbHg6vAJRD9ZWz5GTP9oMrfDyetnGTr5KWJBYAq59fm1W decisionBasis always parallelAllocations 1 allocationAmount 4875797\n",
            "graph indexer rules set QmcKFhdu1pM4ycFmqiYV6XJv3tC9UDmBRQyZ5FsAtgAQnX decisionBasis always parallelAllocations 1 allocationAmount 1942003\n",
            "graph indexer rules set QmZsXh48bDVNVvrkweZRoGJrXbvbXzTE5M8ztZYc46dPRx decisionBasis always parallelAllocations 1 allocationAmount 731778\n",
            "graph indexer rules set QmRhh7rFt3qxfRMTZvHRNK6jCobX4Gx5TkzWXhZkuj57w8 decisionBasis always parallelAllocations 1 allocationAmount 2583392\n",
            "graph indexer rules set Qmaz1R8vcv9v3gUfksqiS9JUz7K9G8S5By3JYn8kTiiP5K decisionBasis always parallelAllocations 1 allocationAmount 11483323\n",
            "graph indexer rules set QmRDGLp6BHwiH9HAE2NYEE3f7LrKuRqziHBv76trT4etgU decisionBasis always parallelAllocations 1 allocationAmount 4382951\n",
            "graph indexer rules set QmP9a8FEBkkt5SCvcRyv35denC2RFSfWGoL2tgoo8LHpPy decisionBasis always parallelAllocations 1 allocationAmount 318403\n",
            "graph indexer rules set Qmcgtsin741cNTtgnkpoDcY92GDK1isRG5F39FNEmEok4n decisionBasis always parallelAllocations 1 allocationAmount 2616283\n",
            "graph indexer rules set Qmf1RePazWgnPpJRcejQZjdisifKcxH7RykFkpKoBKLc5M decisionBasis always parallelAllocations 1 allocationAmount 6020975\n",
            "graph indexer rules set QmWkVS3Uzr2WsTwvxtte2dpHbSYJSQ1bTQMVciKXCWx7TM decisionBasis always parallelAllocations 1 allocationAmount 13502025\n",
            "graph indexer rules set QmVf6LXmnRGexmsA6BqiVdwtL22fDVN289pLU8qEhr5GqC decisionBasis always parallelAllocations 1 allocationAmount 2880614\n",
            "graph indexer rules set QmT3QXkJDQAqimqTp9e5URxWsNVkKVYbqGg29cYdF56cX9 decisionBasis always parallelAllocations 1 allocationAmount 6191723\n",
            "graph indexer rules set QmUVskWrz1ZiQZ76AtyhcfFDEH1ELnRpoyEhVL8p6NFTbR decisionBasis always parallelAllocations 1 allocationAmount 5924243\n",
            "graph indexer rules set QmTKXLEdMD6Vq7Nwxo8XAfnHpG6H1TzL1AGwiqLpoae3Pb decisionBasis always parallelAllocations 1 allocationAmount 6258409\n",
            "graph indexer rules set QmZdsSbRwVD7VVVm5WGxZZC6HYvbjnFb4hcwvQ4fTs5bxA decisionBasis always parallelAllocations 1 allocationAmount 24588414\n",
            "graph indexer rules set QmbL5761GrNnT8X3Emeny6NbXQxDwXxdpiER2boASKBhFW decisionBasis always parallelAllocations 1 allocationAmount 1213494\n",
            "graph indexer rules set QmZLFFChgZu6j4q8twaJn8xF74WgGgZ1WKEG6Cigesr49R decisionBasis always parallelAllocations 1 allocationAmount 4711943\n",
            "graph indexer rules set QmNrS2U5DHqn5DJiKKD1ZS4BpHeAGDsKjftHMwX8LqSZqv decisionBasis always parallelAllocations 1 allocationAmount 1851140\n",
            "graph indexer rules set QmeB3CddhtZqNW3FVvsbNeEt2Ek1VSjdwNBU9fJEYrsC3o decisionBasis always parallelAllocations 1 allocationAmount 1288710\n",
            "graph indexer rules set QmRLE9ueEaDvBD57qsgUBANmyXwd7f8cybj8oTcVWC4KGb decisionBasis always parallelAllocations 1 allocationAmount 2350484\n",
            "graph indexer rules set QmTBxvMF6YnbT1eYeRx9XQpH4WvxTV53vdptCCZFiZSprg decisionBasis always parallelAllocations 1 allocationAmount 2913006\n"
          ]
        }
      ]
    },
    {
      "cell_type": "code",
      "metadata": {
        "colab": {
          "base_uri": "https://localhost:8080/"
        },
        "id": "_MF61nAPM11d",
        "outputId": "51e69901-d7d3-40f3-c172-8a10b48f3270"
      },
      "source": [
        "factory.write(\"model.mps\")\n",
        "factory.computeIIS()\n",
        "factory.write(\"model_IIS.ilp\")"
      ],
      "execution_count": null,
      "outputs": [
        {
          "name": "stdout",
          "output_type": "stream",
          "text": [
            "\n",
            "Computing Irreducible Inconsistent Subsystem (IIS)...\n",
            "\n",
            "           Constraints          |            Bounds           |  Runtime\n",
            "      Min       Max     Guess   |   Min       Max     Guess   |\n",
            "--------------------------------------------------------------------------\n",
            "        0        75         -         0        74         -           0s\n",
            "       38        38         -         0         0         -           0s\n",
            "\n",
            "IIS computed: 38 constraints, 0 bounds\n",
            "IIS runtime: 0.04 seconds\n"
          ]
        }
      ]
    },
    {
      "cell_type": "markdown",
      "metadata": {
        "id": "88c4gj0Z_zFU"
      },
      "source": [
        "# Print indexer agent commands"
      ]
    },
    {
      "cell_type": "code",
      "metadata": {
        "id": "3yv77ONL_woM",
        "colab": {
          "base_uri": "https://localhost:8080/"
        },
        "outputId": "1defe75e-8441-4bbb-8adf-a54d49ade01e"
      },
      "source": [
        "def always_commands(allocations):\n",
        "  print('----------------- always commands -----------------')\n",
        "  for x in allocations.items():\n",
        "    if (int(x[1].x) != 0): \n",
        "      print (f'graph indexer rules set {x[0]} decisionBasis always parallelAllocations 1 allocationAmount {int(x[1].x)}')\n",
        "\n",
        "def stop_commands(indexer_name):\n",
        "  print('----------------- stop commands -----------------')\n",
        "  for allocation in indexers_data[indexer_name]['allocations']:\n",
        "    print(f'graph indexer rules stop {allocation}')\n",
        "\n",
        "def print_subgs(subgraphs, signals, allocations):\n",
        "  for subgraph_hash in subgraphs:\n",
        "    print(subgraph_hash + ', ' + str(signals[subgraph_hash]) + ', ' + str(allocations[subgraph_hash]))\n",
        "\n",
        "\n",
        "stop_commands(indexer)"
      ],
      "execution_count": null,
      "outputs": [
        {
          "output_type": "stream",
          "name": "stdout",
          "text": [
            "----------------- stop commands -----------------\n",
            "graph indexer rules stop QmNRkaVUwUQAwPwWgdQHYvw53A5gh3CP3giWnWQZdA2BTE\n",
            "graph indexer rules stop QmVf6LXmnRGexmsA6BqiVdwtL22fDVN289pLU8qEhr5GqC\n",
            "graph indexer rules stop QmcKFhdu1pM4ycFmqiYV6XJv3tC9UDmBRQyZ5FsAtgAQnX\n",
            "graph indexer rules stop QmbL5761GrNnT8X3Emeny6NbXQxDwXxdpiER2boASKBhFW\n",
            "graph indexer rules stop QmTiKBqwDjDtjAoCNgKLFjyg9UmwyFkVMFRVzBdnFmwYEi\n",
            "graph indexer rules stop QmXtz8Zf837khnHFX1DbPY8cv97fSNd25T19Fjgv4yekGd\n",
            "graph indexer rules stop QmWXF3jTLo6Wy9MxDZz6WKhET3GFcSFqn6vmrDDYPF7UHK\n",
            "graph indexer rules stop QmTBxvMF6YnbT1eYeRx9XQpH4WvxTV53vdptCCZFiZSprg\n",
            "graph indexer rules stop QmZdsSbRwVD7VVVm5WGxZZC6HYvbjnFb4hcwvQ4fTs5bxA\n",
            "graph indexer rules stop QmTYMx6Ls53MfqAPYbPwMyt45KKzayznc2kxeDiwmgvtF9\n",
            "graph indexer rules stop QmRLE9ueEaDvBD57qsgUBANmyXwd7f8cybj8oTcVWC4KGb\n",
            "graph indexer rules stop QmWkVS3Uzr2WsTwvxtte2dpHbSYJSQ1bTQMVciKXCWx7TM\n",
            "graph indexer rules stop QmZLFFChgZu6j4q8twaJn8xF74WgGgZ1WKEG6Cigesr49R\n",
            "graph indexer rules stop Qmaz1R8vcv9v3gUfksqiS9JUz7K9G8S5By3JYn8kTiiP5K\n",
            "graph indexer rules stop QmZsXh48bDVNVvrkweZRoGJrXbvbXzTE5M8ztZYc46dPRx\n",
            "graph indexer rules stop QmNgddhE5ycNAhvuprWZfkGyvAVgotKBgbZ74wa5C9GXNf\n",
            "graph indexer rules stop QmRhh7rFt3qxfRMTZvHRNK6jCobX4Gx5TkzWXhZkuj57w8\n",
            "graph indexer rules stop Qmcgtsin741cNTtgnkpoDcY92GDK1isRG5F39FNEmEok4n\n",
            "graph indexer rules stop QmTKXLEdMD6Vq7Nwxo8XAfnHpG6H1TzL1AGwiqLpoae3Pb\n",
            "graph indexer rules stop QmUVskWrz1ZiQZ76AtyhcfFDEH1ELnRpoyEhVL8p6NFTbR\n",
            "graph indexer rules stop QmT2McMyDQe5eVQJDESAXGygGU3yguwdREaLvq7ahGZiQ1\n",
            "graph indexer rules stop QmRDGLp6BHwiH9HAE2NYEE3f7LrKuRqziHBv76trT4etgU\n",
            "graph indexer rules stop QmSqNTuVwKTYLXdBVULroCKh3pUNNBVUmcu8tXJAXXdeUr\n",
            "graph indexer rules stop Qmf1RePazWgnPpJRcejQZjdisifKcxH7RykFkpKoBKLc5M\n",
            "graph indexer rules stop QmNrS2U5DHqn5DJiKKD1ZS4BpHeAGDsKjftHMwX8LqSZqv\n",
            "graph indexer rules stop QmT2Y7SHXGRt7EKXzFPYMjnrgX64PQr86EjbsHoDLNzwLy\n",
            "graph indexer rules stop QmbHg6vAJRD9ZWz5GTP9oMrfDyetnGTr5KWJBYAq59fm1W\n"
          ]
        }
      ]
    },
    {
      "cell_type": "markdown",
      "metadata": {
        "id": "xlImoQov-ja6"
      },
      "source": [
        "# Scipy whyyy :((\n",
        "\n",
        "  It won't run, maybe I should put everything in a matrix!"
      ]
    },
    {
      "cell_type": "code",
      "metadata": {
        "id": "cn8T8SEO-h31"
      },
      "source": [
        "# from scipy.optimize import show_options\n",
        "# show_options(solver=\"minimize\")\n",
        "# show_options(solver=\"minimize\", method=\"SLSQP\")\n",
        "import pandas as pd\n",
        "import numpy as np\n",
        "from scipy import optimize\n",
        "\n",
        "min_allocations = 5\n",
        "num_subgs = len(subgraph_ipfs_hashes)\n",
        "\n",
        "signals = np.array([current_signals[hash] for hash in (subgraph_ipfs_hashes)])\n",
        "allocations = np.array([stripped_allocations[indexer][hash] for hash in (subgraph_ipfs_hashes)])\n",
        "\n",
        "def print_state(x):\n",
        "  print('-----------------------')\n",
        "  print('signals: ', str(signals))\n",
        "  print('allocations: ', str(allocations))\n",
        "  print('x: ', str(x))\n",
        "\n",
        "def objective(x):\n",
        "  obj_func = sum(\n",
        "      - signals[i] / (allocations[i] + x[i]) * x[i] * rewards_factor(12) - gas_fee() if x[i] > 0\n",
        "        else 0\n",
        "      for i in range(num_subgs))\n",
        "  return obj_func\n",
        "\n",
        "def total_allocation_constraint(x):\n",
        "  return indexer_capacities['lemnis'][0] - sum(x[i] for i in range(num_subgs))\n",
        "\n",
        "# initial guesses\n",
        "initial = np.array([indexer_capacities['lemnis'][0]/num_subgs for _ in range(num_subgs)])\n",
        "\n",
        "allo_upper_bd = indexer_capacities['lemnis'][0] / min_allocations\n",
        "\n",
        "# constraints\n",
        "bnds = [(0.0, allo_upper_bd) for _ in range(num_subgs)]\n",
        "con1 = {'type': 'eq', 'fun': total_allocation_constraint}\n",
        "\n",
        "# show initial objective\n",
        "print('Initial Objective: ' + str(objective(initial)))\n",
        "print('capacities: ', str(indexer_capacities))\n",
        "# optimize\n",
        "res = optimize.minimize(objective, x0=initial, method = 'SLSQP', options={'maxiter':1000, 'disp': True},\\\n",
        "                    bounds=bnds,constraints=[con1])\n",
        "res_df = pd.DataFrame({'min_val':res.x})\n",
        "res.fun\n",
        "\n",
        "x = res.x\n",
        "\n",
        "# show final objective\n",
        "print('Final SSE Objective: ' + str(objective(x)))\n",
        "\n",
        "# print solution\n",
        "print('Solution')\n",
        "for i in range(n):\n",
        "  print(str(subgraph_ipfs_hashes[i]) + \":\" + str(x[i]))\n",
        "\n",
        "print_subgs(subgraphs, current_allocations)\n"
      ],
      "execution_count": null,
      "outputs": []
    },
    {
      "cell_type": "markdown",
      "metadata": {
        "id": "dtWzyEGvmXuf"
      },
      "source": [
        "# Monitoring"
      ]
    },
    {
      "cell_type": "code",
      "metadata": {
        "id": "f9Sj6jbqgcvb",
        "colab": {
          "base_uri": "https://localhost:8080/"
        },
        "outputId": "05d530e2-1931-4ffc-9a04-889a7e0da127"
      },
      "source": [
        "def make_block_params(block_number):\n",
        " return {\n",
        "      \"block_num\": block_number,\n",
        "  }\n",
        "\n",
        "\n",
        "subgraphs_query = \"\"\"query getSubgraphs ($block_num:Int!) {\n",
        "        subgraphs(\n",
        "          first: 1000\n",
        "          skip: 0\n",
        "          orderBy: displayName\n",
        "          orderDirection: asc\n",
        "          block: { number: $block_num }\n",
        "        ) {\n",
        "          displayName\n",
        "          currentVersion {\n",
        "            subgraphDeployment {\n",
        "              ipfsHash\n",
        "              signalledTokens\n",
        "            }\n",
        "          }\n",
        "        }\n",
        "      }\n",
        "\"\"\"\n",
        "\n",
        "\n",
        "indexers_query = \"\"\"query getIndexers ($block_num:Int!)  {\n",
        "          lemnis: indexer(id: \"0xc60d0c8c74b5d3a33ed51c007ebae682490de261\"\n",
        "                          block: { number: $block_num }){\n",
        "            stakedTokens\n",
        "            delegatedTokens\n",
        "            indexingRewardEffectiveCut\n",
        "            allocations{\n",
        "              allocatedTokens\n",
        "              subgraphDeployment{\n",
        "                ipfsHash\n",
        "                stakedTokens\n",
        "              }\n",
        "            }\n",
        "          }\n",
        "          \n",
        "          prime1: indexer(id: \"0x6ac85b9d834b51b14a7b0ed849bb5199e04c05c5\"\n",
        "                          block: { number: $block_num }){\n",
        "            stakedTokens\n",
        "            delegatedTokens\n",
        "            indexingRewardEffectiveCut\n",
        "            allocations{\n",
        "              allocatedTokens\n",
        "              subgraphDeployment{\n",
        "                ipfsHash\n",
        "                stakedTokens\n",
        "              }\n",
        "            }\n",
        "          }\n",
        "          \n",
        "          prime2: indexer(id: \"0x6125ea331851367716bee301ecde7f38a7e429e7\"\n",
        "                          block: { number: $block_num }){\n",
        "            stakedTokens\n",
        "            delegatedTokens\n",
        "            indexingRewardEffectiveCut\n",
        "            allocations{\n",
        "              allocatedTokens\n",
        "              subgraphDeployment{\n",
        "                ipfsHash\n",
        "                stakedTokens\n",
        "              }\n",
        "            }\n",
        "          }\n",
        "}\n",
        "\"\"\"\n",
        "\n",
        "network_query = \"\"\"query getNetwork  ($block_num:Int!) {\n",
        "  graphNetwork(id: \"1\"\n",
        "              block: { number: $block_num }){\n",
        "      totalTokensSignalled\n",
        "      totalTokensAllocated\n",
        "      totalSupply\n",
        "      epochLength\n",
        "      networkGRTIssuance\n",
        "    }\n",
        "}\n",
        "\"\"\"\n",
        "result_by_block = dict()\n",
        "# 13584548\n",
        "for block_number in range(12400000, 13584548, 1000):\n",
        "  if block_number % 10000 == 0: print(block_number)\n",
        "  params = make_block_params(block_number)\n",
        "  subgraphs_data = query(subgraphs_query, params)\n",
        "  indexers_data = query(indexers_query, params)\n",
        "  network_data = query(network_query, params)\n",
        "\n",
        "  # network\n",
        "  totalTokensSignalled = float(network_data['graphNetwork']['totalTokensSignalled'])/1e18\n",
        "  totalTokensAllocated = float(network_data['graphNetwork']['totalTokensAllocated'])/1e18\n",
        "  totalSupply = float(network_data['graphNetwork']['totalSupply'])/1e18\n",
        "  numBlockInDay = float(network_data['graphNetwork']['epochLength'])\n",
        "  networkGRTIssuance = float(network_data['graphNetwork']['networkGRTIssuance'])/1e18\n",
        "\n",
        "  # indexer allocations\n",
        "  for indexer_name, indexer in indexers_data.items():\n",
        "    indexer['indexingRewardEffectiveCut'] = float(indexer['indexingRewardEffectiveCut'])\n",
        "    # indexer['indexingRewardCut'] = float(indexer['indexingRewardCut'])/1e6\n",
        "    indexer['stakedTokens'] = float(indexer['stakedTokens'])/1e18\n",
        "    indexer['delegatedTokens'] = float(indexer['delegatedTokens'])/1e18\n",
        "    # indexer['allocatedTokens'] = float(indexer['allocatedTokens'])/1e18\n",
        "    for allocation in indexer['allocations']:\n",
        "      allocation['ipfsHash'] = allocation['subgraphDeployment']['ipfsHash']\n",
        "      allocation['allocatedTokens'] = float(allocation['allocatedTokens'])/1e18\n",
        "      allocation['stakedTokens'] = float(allocation['subgraphDeployment']['stakedTokens'])/1e18\n",
        "      # allocation['signalledTokens'] = float(allocation['subgraphDeployment']['signalledTokens'])/1e18\n",
        "\n",
        "  Y = 365\n",
        "  # daily_rewards = (totalSupply * networkGRTIssuance - totalSupply) * numBlockInDay # apparently numBlockInDay is more accurate\n",
        "  daily_rewards = (totalSupply * networkGRTIssuance - totalSupply) * 6500\n",
        "\n",
        "  # subgraph daily rewards\n",
        "  subgraph_daily_rewards_dict = {}\n",
        "  for subgraph in subgraphs_data['subgraphs']:\n",
        "    hash = subgraph['currentVersion']['subgraphDeployment']['ipfsHash'] \n",
        "    subgraph_daily_rewards_dict[hash] = daily_rewards * ( float(subgraph['currentVersion']['subgraphDeployment']['signalledTokens'])/1e18 / totalTokensSignalled )\n",
        "\n",
        "\n",
        "  indexer_daily_rewards_dict = { 'prime1': {}, 'prime2': {}, 'lemnis': {} }\n",
        "  for indexer_name, indexer in indexers_data.items():\n",
        "    for subg in indexer['allocations']:\n",
        "      subg['allocation_daily_rewards'] = subg['allocatedTokens'] * (subgraph_daily_rewards_dict[subg['ipfsHash']] / subg['stakedTokens']) if subg['ipfsHash'] in subgraph_daily_rewards_dict else 0\n",
        "\n",
        "    total_daily_rewards = sum([subg['allocation_daily_rewards'] for subg in indexer['allocations']])\n",
        "    indexer_daily_rewards_dict[indexer_name] = (total_daily_rewards, total_daily_rewards / (indexer['stakedTokens']+indexer['delegatedTokens']) * Y * (1 - indexer['indexingRewardEffectiveCut']))\n",
        "  \n",
        "  result_by_block[block_number] = indexer_daily_rewards_dict\n",
        "\n"
      ],
      "execution_count": null,
      "outputs": [
        {
          "output_type": "stream",
          "name": "stdout",
          "text": [
            "13000000\n"
          ]
        }
      ]
    },
    {
      "cell_type": "code",
      "metadata": {
        "id": "Wnc_dKlE86pu"
      },
      "source": [
        ""
      ],
      "execution_count": null,
      "outputs": []
    },
    {
      "cell_type": "code",
      "metadata": {
        "id": "axB888LzozzP"
      },
      "source": [
        "blocks = list(result_by_block.keys())\n",
        "\n",
        "lemnis_edr = [data['lemnis'][0] for block_num, data in result_by_block.items()]\n",
        "lemnis_apr = [data['lemnis'][1] for block_num, data in result_by_block.items()]\n",
        "prime1_edr = [data['prime1'][0] for block_num, data in result_by_block.items()]\n",
        "prime1_apr = [data['prime1'][1] for block_num, data in result_by_block.items()]\n",
        "prime2_edr = [data['prime2'][0] for block_num, data in result_by_block.items()]\n",
        "prime2_apr = [data['prime2'][1] for block_num, data in result_by_block.items()]\n"
      ],
      "execution_count": null,
      "outputs": []
    },
    {
      "cell_type": "code",
      "metadata": {
        "colab": {
          "base_uri": "https://localhost:8080/",
          "height": 984
        },
        "id": "23h2afCGtk5_",
        "outputId": "328d64cd-9621-4149-bda1-30bf8ab19111"
      },
      "source": [
        "\n",
        "\n",
        "fig, ((ax1_lemnis, ax1_prime1, ax1_prime2), (ax2_lemnis, ax2_prime1, ax2_prime2)) = plt.subplots(2, 3,figsize=(30,15))\n",
        "fig.suptitle('edr and apr')\n",
        "\n",
        "ax1_lemnis.plot(blocks, lemnis_edr, '-')\n",
        "ax1_lemnis.set_ylabel('estimated daily reward')\n",
        "ax2_lemnis.plot(blocks, lemnis_apr, '-')\n",
        "ax2_lemnis.set_ylabel('estimated apr')\n",
        "\n",
        "ax1_prime1.plot(blocks, prime1_edr, '-')\n",
        "ax1_prime1.set_ylabel('estimated daily reward')\n",
        "ax2_prime1.plot(blocks, prime1_apr, '-')\n",
        "ax2_prime1.set_ylabel('estimated apr')\n",
        "\n",
        "ax1_prime2.plot(blocks, prime2_edr, '-')\n",
        "ax1_prime2.set_ylabel('estimated daily reward')\n",
        "ax2_prime2.plot(blocks, prime2_apr, '-')\n",
        "ax2_prime2.set_ylabel('estimated apr')\n",
        "\n",
        "plt.show()\n",
        "\n"
      ],
      "execution_count": null,
      "outputs": [
        {
          "output_type": "display_data",
          "data": {
            "image/png": "[encoded data removed]",
            "text/plain": [
              "<Figure size 2160x1080 with 6 Axes>"
            ]
          },
          "metadata": {
            "needs_background": "light"
          }
        }
      ]
    }
  ]
}