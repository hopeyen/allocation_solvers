{
  "nbformat": 4,
  "nbformat_minor": 0,
  "metadata": {
    "colab": {
      "name": "allocation_calculator.ipynb",
      "provenance": [],
      "collapsed_sections": [],
      "include_colab_link": true
    },
    "interpreter": {
      "hash": "b0fa6594d8f4cbf19f97940f81e996739fb7646882a419484c72d19e05852a7e"
    },
    "kernelspec": {
      "display_name": "Python 3.9.6 64-bit",
      "name": "python3"
    },
    "language_info": {
      "codemirror_mode": {
        "name": "ipython",
        "version": 3
      },
      "file_extension": ".py",
      "mimetype": "text/x-python",
      "name": "python",
      "nbconvert_exporter": "python",
      "pygments_lexer": "ipython3",
      "version": "3.9.6"
    }
  },
  "cells": [
    {
      "cell_type": "markdown",
      "metadata": {
        "id": "view-in-github",
        "colab_type": "text"
      },
      "source": [
        "<a href=\"https://colab.research.google.com/github/hopeyen/allocation_solvers/blob/main/allocation_calculator.ipynb\" target=\"_parent\"><img src=\"https://colab.research.google.com/assets/colab-badge.svg\" alt=\"Open In Colab\"/></a>"
      ]
    },
    {
      "cell_type": "code",
      "metadata": {
        "colab": {
          "base_uri": "https://localhost:8080/",
          "height": 851
        },
        "id": "EaOaP9oldZf1",
        "outputId": "4cbb7abc-74b3-4119-edb6-4a2a6d8df990"
      },
      "source": [
        "# Installation \n",
        "!pip3 install gql\n",
        "!pip3 install ortools\n",
        "!pip install gurobipy"
      ],
      "execution_count": null,
      "outputs": [
        {
          "output_type": "stream",
          "name": "stdout",
          "text": [
            "Collecting gql\n",
            "  Downloading gql-2.0.0-py2.py3-none-any.whl (10 kB)\n",
            "Requirement already satisfied: six>=1.10.0 in /usr/local/lib/python3.7/dist-packages (from gql) (1.15.0)\n",
            "Requirement already satisfied: promise<3,>=2.3 in /usr/local/lib/python3.7/dist-packages (from gql) (2.3)\n",
            "Collecting graphql-core<3,>=2.3.2\n",
            "  Downloading graphql_core-2.3.2-py2.py3-none-any.whl (252 kB)\n",
            "\u001b[K     |████████████████████████████████| 252 kB 11.4 MB/s \n",
            "\u001b[?25hRequirement already satisfied: requests<3,>=2.12 in /usr/local/lib/python3.7/dist-packages (from gql) (2.23.0)\n",
            "Collecting rx<2,>=1.6\n",
            "  Downloading Rx-1.6.1-py2.py3-none-any.whl (179 kB)\n",
            "\u001b[K     |████████████████████████████████| 179 kB 57.3 MB/s \n",
            "\u001b[?25hRequirement already satisfied: chardet<4,>=3.0.2 in /usr/local/lib/python3.7/dist-packages (from requests<3,>=2.12->gql) (3.0.4)\n",
            "Requirement already satisfied: urllib3!=1.25.0,!=1.25.1,<1.26,>=1.21.1 in /usr/local/lib/python3.7/dist-packages (from requests<3,>=2.12->gql) (1.24.3)\n",
            "Requirement already satisfied: idna<3,>=2.5 in /usr/local/lib/python3.7/dist-packages (from requests<3,>=2.12->gql) (2.10)\n",
            "Requirement already satisfied: certifi>=2017.4.17 in /usr/local/lib/python3.7/dist-packages (from requests<3,>=2.12->gql) (2021.5.30)\n",
            "Installing collected packages: rx, graphql-core, gql\n",
            "Successfully installed gql-2.0.0 graphql-core-2.3.2 rx-1.6.1\n",
            "Collecting ortools\n",
            "  Downloading ortools-9.1.9490-cp37-cp37m-manylinux_2_17_x86_64.manylinux2014_x86_64.whl (14.5 MB)\n",
            "\u001b[K     |████████████████████████████████| 14.5 MB 89 kB/s \n",
            "\u001b[?25hCollecting protobuf>=3.18.0\n",
            "  Downloading protobuf-3.18.1-cp37-cp37m-manylinux_2_17_x86_64.manylinux2014_x86_64.whl (1.1 MB)\n",
            "\u001b[K     |████████████████████████████████| 1.1 MB 43.0 MB/s \n",
            "\u001b[?25hCollecting absl-py>=0.13\n",
            "  Downloading absl_py-0.14.1-py3-none-any.whl (131 kB)\n",
            "\u001b[K     |████████████████████████████████| 131 kB 59.9 MB/s \n",
            "\u001b[?25hRequirement already satisfied: six in /usr/local/lib/python3.7/dist-packages (from absl-py>=0.13->ortools) (1.15.0)\n",
            "Installing collected packages: protobuf, absl-py, ortools\n",
            "  Attempting uninstall: protobuf\n",
            "    Found existing installation: protobuf 3.17.3\n",
            "    Uninstalling protobuf-3.17.3:\n",
            "      Successfully uninstalled protobuf-3.17.3\n",
            "  Attempting uninstall: absl-py\n",
            "    Found existing installation: absl-py 0.12.0\n",
            "    Uninstalling absl-py-0.12.0:\n",
            "      Successfully uninstalled absl-py-0.12.0\n",
            "\u001b[31mERROR: pip's dependency resolver does not currently take into account all the packages that are installed. This behaviour is the source of the following dependency conflicts.\n",
            "tensorflow-metadata 1.2.0 requires absl-py<0.13,>=0.9, but you have absl-py 0.14.1 which is incompatible.\u001b[0m\n",
            "Successfully installed absl-py-0.14.1 ortools-9.1.9490 protobuf-3.18.1\n"
          ]
        },
        {
          "output_type": "display_data",
          "data": {
            "application/vnd.colab-display-data+json": {
              "pip_warning": {
                "packages": [
                  "google"
                ]
              }
            }
          },
          "metadata": {}
        },
        {
          "output_type": "stream",
          "name": "stdout",
          "text": [
            "Collecting gurobipy\n",
            "  Downloading gurobipy-9.1.2-cp37-cp37m-manylinux1_x86_64.whl (11.1 MB)\n",
            "\u001b[K     |████████████████████████████████| 11.1 MB 5.8 MB/s \n",
            "\u001b[?25hInstalling collected packages: gurobipy\n",
            "Successfully installed gurobipy-9.1.2\n"
          ]
        }
      ]
    },
    {
      "cell_type": "code",
      "metadata": {
        "id": "vTjxFMPrdZf3"
      },
      "source": [
        "# Import\n",
        "from pprint import pprint\n",
        "from getpass import getpass\n",
        "from gql import Client, gql\n",
        "from gql.transport.requests import RequestsHTTPTransport\n",
        "from IPython.display import JSON, IFrame\n",
        "import requests\n",
        "import numpy as np\n",
        "from scipy.optimize import minimize\n",
        "\n",
        "import pandas as pd\n",
        "\n",
        "import gurobipy as gp\n",
        "from gurobipy import GRB\n"
      ],
      "execution_count": null,
      "outputs": []
    },
    {
      "cell_type": "markdown",
      "metadata": {
        "id": "ai9GqtBZdZf3"
      },
      "source": [
        "Subgraph Allocation Calculator \n",
        "\n",
        "Needed information: A list of subgraphs (for now use all), \n",
        "\n",
        "1. Query subgraph information (current signal and allocation)\n",
        "2. Query indexer information (available allocation)\n",
        "3. Set up the variables (would like to check the equations)\n",
        "4. Use Optimizer to solve"
      ]
    },
    {
      "cell_type": "code",
      "metadata": {
        "colab": {
          "base_uri": "https://localhost:8080/"
        },
        "id": "p-pqeWfSdZf4",
        "outputId": "855e8a5c-e650-4f37-8473-709a69fe59c7"
      },
      "source": [
        "# Set up client\n",
        "api_url = 'https://gateway.thegraph.com/network'\n",
        "\n",
        "token = getpass()\n",
        "\n",
        "client = Client(\n",
        "    transport=RequestsHTTPTransport(api_url, use_json=True, headers=dict(Authorization=f\"token {token}\")),\n",
        "    fetch_schema_from_transport=True,\n",
        ")"
      ],
      "execution_count": null,
      "outputs": [
        {
          "name": "stdout",
          "output_type": "stream",
          "text": [
            "··········\n"
          ]
        }
      ]
    },
    {
      "cell_type": "code",
      "metadata": {
        "id": "zIaX6FendZf4"
      },
      "source": [
        "def query(query_string):\n",
        "  query_gql = gql(query_string)\n",
        "  result = client.execute(query_gql)\n",
        "  return result"
      ],
      "execution_count": null,
      "outputs": []
    },
    {
      "cell_type": "code",
      "metadata": {
        "id": "-gK4e8gCdZf4"
      },
      "source": [
        "subgraphs_query = \"\"\"query getSubgraphs {\n",
        "        subgraphs(\n",
        "          first: 1000\n",
        "          skip: 0\n",
        "          orderBy: displayName\n",
        "          orderDirection: asc\n",
        "        ) {\n",
        "          id\n",
        "          displayName\n",
        "          owner {\n",
        "            id\n",
        "          }\n",
        "          currentVersion {\n",
        "            id\n",
        "            createdAt\n",
        "            subgraphDeployment {\n",
        "              id\n",
        "              ipfsHash\n",
        "              signalledTokens\n",
        "              stakedTokens\n",
        "              indexingRewardAmount\n",
        "              queryFeesAmount\n",
        "              deniedAt\n",
        "              versions(first: 1000) {\n",
        "                id\n",
        "                subgraph {\n",
        "                  id\n",
        "                  currentVersion {\n",
        "                    id\n",
        "                    subgraphDeployment {\n",
        "                      id\n",
        "                    }\n",
        "                  }\n",
        "                }\n",
        "              }\n",
        "            }\n",
        "          }\n",
        "        }\n",
        "      }\n",
        "\"\"\"\n",
        "subgraphs_data = query(subgraphs_query)"
      ],
      "execution_count": null,
      "outputs": []
    },
    {
      "cell_type": "code",
      "metadata": {
        "id": "vArA1hOPdZf6"
      },
      "source": [
        "indexers_query = \"\"\"query getIndexers {\n",
        "          lemnis: indexer(id: \"0xc60d0c8c74b5d3a33ed51c007ebae682490de261\"){\n",
        "            allocatedTokens\n",
        "          }\n",
        "          \n",
        "          prime1: indexer(id: \"0x6ac85b9d834b51b14a7b0ed849bb5199e04c05c5\"){\n",
        "            allocatedTokens\n",
        "          }\n",
        "          \n",
        "          prime2: indexer(id: \"0x6125ea331851367716bee301ecde7f38a7e429e7\"){\n",
        "            allocatedTokens\n",
        "          }\n",
        "        }\n",
        "\n",
        "\"\"\"\n",
        "indexers_data = query(indexers_query)"
      ],
      "execution_count": null,
      "outputs": []
    },
    {
      "cell_type": "code",
      "metadata": {
        "id": "4xHkubtffv56"
      },
      "source": [
        "wanted_subgraphs = ['Sushi - Mainnet Exchange',\n",
        "  'Sushi - MasterChef',\n",
        "  'Livepeer',\n",
        "  'Audius Network Mainnet',\n",
        "  'UMA Mainnet Voting',\n",
        "  'RAI Mainnet',\n",
        "  'mStable Protocol',\n",
        "  'PoolTogether v3_1_0',\n",
        "  'Curve',\n",
        "  'DODOEX V2',\n",
        "  'Enzyme Finance',\n",
        "  'Omen',\n",
        "  'Radicle',\n",
        "  'Sushi - SushiBar',\n",
        "  'Yearn Vaults V2 Subgraph',\n",
        "  'eip1155'  ,\n",
        "  'AirSwap',\n",
        "  'C.R.E.A.M.',\n",
        "  'Decentraland Marketplace',\n",
        "  'Badger DAO',\n",
        "  'juicebox',\n",
        "  'PoolTogether Governance',\n",
        "  'Ethereum User LP Transactions V1',\n",
        "  'Pickle Finance']\n",
        "\n",
        "\n",
        "\n",
        "wanted_ipfs = ['QmWkVS3Uzr2WsTwvxtte2dpHbSYJSQ1bTQMVciKXCWx7TM',\n",
        "'Qmf1RePazWgnPpJRcejQZjdisifKcxH7RykFkpKoBKLc5M',\n",
        "'QmbHg6vAJRD9ZWz5GTP9oMrfDyetnGTr5KWJBYAq59fm1W',\n",
        "'QmUVskWrz1ZiQZ76AtyhcfFDEH1ELnRpoyEhVL8p6NFTbR',\n",
        "'QmbL5761GrNnT8X3Emeny6NbXQxDwXxdpiER2boASKBhFW',\n",
        "'QmNrS2U5DHqn5DJiKKD1ZS4BpHeAGDsKjftHMwX8LqSZqv',\n",
        "'Qmcgtsin741cNTtgnkpoDcY92GDK1isRG5F39FNEmEok4n']"
      ],
      "execution_count": null,
      "outputs": []
    },
    {
      "cell_type": "code",
      "metadata": {
        "id": "4ik2QfTGgmJs"
      },
      "source": [
        "# print((subgraphs_data['subgraphs']))\n",
        "\n",
        "# filter through name\n",
        "subgraphs_data['subgraphs'] = (list(filter(lambda subgraph: subgraph['displayName'] in wanted_subgraphs, subgraphs_data['subgraphs'])))\n",
        "\n",
        "# # filter through ipfs\n",
        "# subgraphs_data['subgraphs'] = (list(filter(lambda subgraph: subgraph['currentVersion']['subgraphDeployment']['ipfsHash'] in wanted_ipfs, subgraphs_data['subgraphs'])))"
      ],
      "execution_count": null,
      "outputs": []
    },
    {
      "cell_type": "code",
      "metadata": {
        "id": "im2RSucUmqd7"
      },
      "source": [
        "# get indexer constraint\n",
        "# A_lemnis = float(indexers_data['lemnis']['allocatedTokens'])/1e18\n",
        "# A_prime1 = float(indexers_data['prime1']['allocatedTokens'])/1e18\n",
        "# A_prime2 = float(indexers_data['prime2']['allocatedTokens'])/1e18\n",
        "\n",
        "A_prime1 = 11738784.84\n",
        "A_lemnis = 187682701.36\n",
        "A_prime2 = 227384535\n",
        "\n",
        "A_limit = A_prime2"
      ],
      "execution_count": null,
      "outputs": []
    },
    {
      "cell_type": "code",
      "metadata": {
        "id": "hmfmlMuhdZf6"
      },
      "source": [
        "# data processing and filter - subgraphs\n",
        "\n",
        "# flatten name\n",
        "for subgraph in subgraphs_data['subgraphs']:\n",
        "  subgraph['currentVersion']['subgraphDeployment']['displayName'] = subgraph['displayName']\n",
        "\n",
        "# process subg deployment, ignore the ones without a lower bound of stake or signal\n",
        "lowerbound = 10 * 1e18\n",
        "subgs = [subgraph['currentVersion']['subgraphDeployment'] for subgraph in subgraphs_data['subgraphs'] \n",
        "         if (int(subgraph['currentVersion']['subgraphDeployment']['stakedTokens']) >= lowerbound) \n",
        "            & (int(subgraph['currentVersion']['subgraphDeployment']['signalledTokens']) >= lowerbound) ]\n",
        "\n",
        "# format into a dictionary with token factor         \n",
        "subgraphs = {subg['id'] : \n",
        "              {'id': subg['id'], \n",
        "               'ipfsHash': subg['ipfsHash'], \n",
        "               'displayName': subg['displayName'], \n",
        "               'signalledTokens': (float(subg['signalledTokens'])/1e18), \n",
        "               'stakedTokens': (float(subg['stakedTokens'])/1e18)} for subg in subgs}\n",
        "\n",
        "# for easy access later, get the list of ids and ipfs hashes\n",
        "subgraph_ids = list(set([id for id, subg in subgraphs.items()]))\n",
        "subgraph_ipfs_hashes = list(set([subg['ipfsHash'] for id, subg in subgraphs.items()]))\n",
        "\n",
        "# also for easy access later\n",
        "current_allocations = {subg['ipfsHash']: (subg['stakedTokens']) for id, subg in subgraphs.items()}\n",
        "current_signals = {subg['ipfsHash']: (subg['signalledTokens']) for id, subg in subgraphs.items()}\n",
        "\n",
        "# number of subgraphs\n",
        "n = len(subgraphs)"
      ],
      "execution_count": null,
      "outputs": []
    },
    {
      "cell_type": "markdown",
      "metadata": {
        "id": "r3-jCCyToc5S"
      },
      "source": [
        "# Model 1: with only 1 free variable"
      ]
    },
    {
      "cell_type": "code",
      "metadata": {
        "colab": {
          "base_uri": "https://localhost:8080/"
        },
        "id": "14cov_45ygV4",
        "outputId": "d10e366c-9749-4ef9-9fc1-840141c63b9a"
      },
      "source": [
        "factory = gp.Model('Allocation calculator')\n",
        "\n",
        "x_allocate = factory.addVars(subgraph_ipfs_hashes, lb=0, name=\"Subgraph allocation\") # amount allocated"
      ],
      "execution_count": null,
      "outputs": [
        {
          "output_type": "stream",
          "name": "stdout",
          "text": [
            "Restricted license - for non-production use only - expires 2022-01-13\n"
          ]
        }
      ]
    },
    {
      "cell_type": "code",
      "metadata": {
        "id": "g9NiPWKW1jfv"
      },
      "source": [
        "#Allocation Capacity\n",
        "AllocationCap = factory.addConstr((gp.quicksum(x_allocate)\n",
        "                    == A_limit),\n",
        "                   name = \"Capacity\")"
      ],
      "execution_count": null,
      "outputs": []
    },
    {
      "cell_type": "code",
      "metadata": {
        "colab": {
          "base_uri": "https://localhost:8080/"
        },
        "id": "xK5dTqCNpDSY",
        "outputId": "8d8a0614-2b4d-4a1c-cdbb-4fd5ffb71a74"
      },
      "source": [
        "n"
      ],
      "execution_count": null,
      "outputs": [
        {
          "output_type": "execute_result",
          "data": {
            "text/plain": [
              "24"
            ]
          },
          "metadata": {},
          "execution_count": 14
        }
      ]
    },
    {
      "cell_type": "code",
      "metadata": {
        "id": "z6XFeCYG3LAW"
      },
      "source": [
        "#0. Objective Function\n",
        "# Taylor serie\n",
        "# a*c ÷ (b+c) = a * c / b - a * c**2 / b**2 + a * c**3 / b**3 - a * c**4 / b**4 + a * c**5 / b**5   \n",
        "\n",
        "                  #  + current_signals[i] * x_allocate[i]**3 / current_allocations[i]**3 \n",
        "                  #  - current_signals[i] * x_allocate[i]**4 / current_allocations[i]**4 \n",
        "                  #  + current_signals[i] * x_allocate[i]**5 / current_allocations[i]**5\n",
        "\n",
        "\n",
        "obj = gp.quicksum(( current_signals[i] * x_allocate[i] / current_allocations[i] \n",
        "                   - current_signals[i] * x_allocate[i] * x_allocate[i] / (current_allocations[i]*current_allocations[i])  )\n",
        "               for i in subgraph_ipfs_hashes)\n",
        "\n",
        "factory.setObjective(obj, GRB.MAXIMIZE)\n",
        "\n",
        "# factory.Params.NonConvex=2"
      ],
      "execution_count": null,
      "outputs": []
    },
    {
      "cell_type": "code",
      "metadata": {
        "colab": {
          "base_uri": "https://localhost:8080/"
        },
        "id": "5FFr-XinEFKF",
        "outputId": "671e3862-a667-472b-eedf-12a03cb208ca"
      },
      "source": [
        "factory.optimize()\n",
        "\n",
        "# Print output\n",
        "print(\"Available allocation: \" + str(A_limit))\n",
        "for x in x_allocate.items():\n",
        "  if (x[1].x != 0): print (str(x[0]) + \":\" + str(x[1].x))"
      ],
      "execution_count": null,
      "outputs": [
        {
          "output_type": "stream",
          "name": "stdout",
          "text": [
            "Gurobi Optimizer version 9.1.2 build v9.1.2rc0 (linux64)\n",
            "Thread count: 1 physical cores, 2 logical processors, using up to 2 threads\n",
            "Optimize a model with 1 rows, 24 columns and 24 nonzeros\n",
            "Model fingerprint: 0x917ef82d\n",
            "Model has 24 quadratic objective terms\n",
            "Coefficient statistics:\n",
            "  Matrix range     [1e+00, 1e+00]\n",
            "  Objective range  [1e-03, 1e-03]\n",
            "  QObjective range [8e-12, 2e-10]\n",
            "  Bounds range     [0e+00, 0e+00]\n",
            "  RHS range        [2e+08, 2e+08]\n",
            "Presolve time: 0.01s\n",
            "Presolved: 1 rows, 24 columns, 24 nonzeros\n",
            "Presolved model has 24 quadratic objective terms\n",
            "Ordering time: 0.00s\n",
            "\n",
            "Barrier statistics:\n",
            " AA' NZ     : 0.000e+00\n",
            " Factor NZ  : 1.000e+00\n",
            " Factor Ops : 1.000e+00 (less than 1 second per iteration)\n",
            " Threads    : 1\n",
            "\n",
            "                  Objective                Residual\n",
            "Iter       Primal          Dual         Primal    Dual     Compl     Time\n",
            "   0  -4.25595452e+06  8.33871565e+06  1.38e+04 0.00e+00  8.95e+05     0s\n",
            "   1   8.63457976e+04  1.40364047e+06  6.53e+02 0.00e+00  9.20e+04     0s\n",
            "   2   1.49858641e+05  4.03893613e+05  6.53e-04 0.00e+00  1.06e+04     0s\n",
            "   3   2.12488290e+05  3.53248725e+05  6.53e-10 0.00e+00  5.87e+03     0s\n",
            "   4   2.17140157e+05  2.23828127e+05  1.41e-11 0.00e+00  2.79e+02     0s\n",
            "   5   2.17696790e+05  2.17930549e+05  2.27e-13 7.11e-15  9.74e+00     0s\n",
            "   6   2.17702886e+05  2.17704348e+05  0.00e+00 2.84e-14  6.09e-02     0s\n",
            "   7   2.17702887e+05  2.17702889e+05  1.14e-13 7.11e-15  6.14e-05     0s\n",
            "   8   2.17702887e+05  2.17702887e+05  1.14e-13 2.13e-14  6.14e-08     0s\n",
            "   9   2.17702887e+05  2.17702887e+05  2.27e-13 3.55e-14  6.14e-11     0s\n",
            "\n",
            "Barrier solved model in 9 iterations and 0.04 seconds\n",
            "Optimal objective 2.17702887e+05\n",
            "\n",
            "Available allocation: 227384535\n",
            "QmNrS2U5DHqn5DJiKKD1ZS4BpHeAGDsKjftHMwX8LqSZqv:3128076.577287596\n",
            "QmRLE9ueEaDvBD57qsgUBANmyXwd7f8cybj8oTcVWC4KGb:4844827.893067942\n",
            "Qmaz1R8vcv9v3gUfksqiS9JUz7K9G8S5By3JYn8kTiiP5K:20934426.869208813\n",
            "QmTKXLEdMD6Vq7Nwxo8XAfnHpG6H1TzL1AGwiqLpoae3Pb:15241905.138686175\n",
            "QmXU1g4ju2zNBmDanMBHHuwJyDRG7pCjTK9DdAPvXqfQc4:14650408.732961003\n",
            "Qmf1RePazWgnPpJRcejQZjdisifKcxH7RykFkpKoBKLc5M:19194435.928897496\n",
            "QmRhh7rFt3qxfRMTZvHRNK6jCobX4Gx5TkzWXhZkuj57w8:11997018.921068791\n",
            "QmZsXh48bDVNVvrkweZRoGJrXbvbXzTE5M8ztZYc46dPRx:2148998.30611016\n",
            "QmTBxvMF6YnbT1eYeRx9XQpH4WvxTV53vdptCCZFiZSprg:9481069.782349873\n",
            "QmTYMx6Ls53MfqAPYbPwMyt45KKzayznc2kxeDiwmgvtF9:4747561.026204849\n",
            "QmZdsSbRwVD7VVVm5WGxZZC6HYvbjnFb4hcwvQ4fTs5bxA:9847367.127644107\n",
            "QmWkVS3Uzr2WsTwvxtte2dpHbSYJSQ1bTQMVciKXCWx7TM:26317557.38741256\n",
            "QmbJfBH9wtW1N81d2HtYZZgyNi1S98EkQbWnXB3jqNP9Qw:1474863.2599577797\n",
            "QmUVskWrz1ZiQZ76AtyhcfFDEH1ELnRpoyEhVL8p6NFTbR:16639335.362780241\n",
            "QmcKFhdu1pM4ycFmqiYV6XJv3tC9UDmBRQyZ5FsAtgAQnX:4722175.251295361\n",
            "QmbsoSF2Hb9spcVshwcGURZWxVM4ezHMN1GFNFkta9f4JK:1462109.6681291969\n",
            "QmbHg6vAJRD9ZWz5GTP9oMrfDyetnGTr5KWJBYAq59fm1W:17878943.9862054\n",
            "QmP9a8FEBkkt5SCvcRyv35denC2RFSfWGoL2tgoo8LHpPy:2927703.6729799835\n",
            "Qmcgtsin741cNTtgnkpoDcY92GDK1isRG5F39FNEmEok4n:1798950.3938763407\n",
            "QmbL5761GrNnT8X3Emeny6NbXQxDwXxdpiER2boASKBhFW:3269714.8327892656\n",
            "QmYEq9PxgUEstxqE853qLMJ9MbowNrVVMGifFc8mUaHhhT:1149110.1171243356\n",
            "QmaYbdmTiRWojPzo6tqvuFzxVU9fshNc8S1GMuDUQP6nQx:5053302.502082544\n",
            "QmRDGLp6BHwiH9HAE2NYEE3f7LrKuRqziHBv76trT4etgU:15888347.716147186\n",
            "QmXVcpJnKTzWAa6Z7oKYMJyum6xhyEH1j5a81ZUwEmVtFj:12586324.545732992\n"
          ]
        }
      ]
    },
    {
      "cell_type": "markdown",
      "metadata": {
        "id": "pNN6xUn0kszt"
      },
      "source": [
        "# Two free variables\n"
      ]
    },
    {
      "cell_type": "code",
      "metadata": {
        "colab": {
          "base_uri": "https://localhost:8080/"
        },
        "id": "3Qc_jNClkxAK",
        "outputId": "61d766ec-fafb-4e72-d007-499c29ecf465"
      },
      "source": [
        "factory2 = gp.Model('Allocation calculator 2')\n",
        "\n",
        "x_allocate_2 = factory2.addVars(subgraph_ipfs_hashes, lb=0, name=\"Subgraph allocation\") # amount allocated\n",
        "y_allocate = factory2.addVars(subgraph_ipfs_hashes, lb=0, name=\"Subgraph allocation opposite\") # opposite\n",
        "# cur_allocations = factory2.addVars(subgraph_ids, current_allocations, lb=0, name=\"current allocations\") # current allocations\n",
        "# cur_signals = factory2.addVars(subgraph_ids, current_signals, lb=0, name=\"current signals\") # current signals\n",
        "\n",
        "#Allocation Capacity\n",
        "AllocationCap = factory2.addConstr((gp.quicksum(x_allocate_2)\n",
        "                    <= A_limit),\n",
        "                   name = \"Capacity\")\n",
        "\n",
        "#Extra free variable equates\n",
        "FreeVarEquates = factory2.addConstrs((y_allocate[i] * (current_allocations[i] + x_allocate_2[i]) == x_allocate_2[i] for i in subgraph_ipfs_hashes),\n",
        "                   name = \"Free\")\n",
        "\n",
        "#0. Objective Function\n",
        "# Taylor serie\n",
        "# a*c ÷ (b+c) = a*c*z where z = 1/(b+c) such that constrain is 1 = z*(b+c)\n",
        "obj = gp.quicksum(( current_signals[i] * y_allocate[i]  )\n",
        "               for i in subgraph_ipfs_hashes)\n",
        "\n",
        "factory2.setObjective(obj, GRB.MAXIMIZE)\n",
        "\n",
        "factory2.Params.NonConvex=2\n",
        "\n",
        "factory2.optimize()"
      ],
      "execution_count": null,
      "outputs": [
        {
          "output_type": "stream",
          "name": "stdout",
          "text": [
            "Changed value of parameter NonConvex to 2\n",
            "   Prev: -1  Min: -1  Max: 2  Default: -1\n",
            "Gurobi Optimizer version 9.1.2 build v9.1.2rc0 (linux64)\n",
            "Thread count: 1 physical cores, 2 logical processors, using up to 2 threads\n",
            "Optimize a model with 1 rows, 48 columns and 24 nonzeros\n",
            "Model fingerprint: 0x41dc95b2\n",
            "Model has 24 quadratic constraints\n",
            "Coefficient statistics:\n",
            "  Matrix range     [1e+00, 1e+00]\n",
            "  QMatrix range    [1e+00, 1e+00]\n",
            "  QLMatrix range   [1e+00, 3e+08]\n",
            "  Objective range  [1e+04, 3e+05]\n",
            "  Bounds range     [0e+00, 0e+00]\n",
            "  RHS range        [2e+08, 2e+08]\n",
            "Warning: Quadratic constraints contain large coefficients on linear part\n",
            "         Consider reformulating model or setting NumericFocus parameter\n",
            "         to avoid numerical issues.\n",
            "\n",
            "Continuous model is non-convex -- solving as a MIP.\n",
            "\n",
            "Presolve time: 0.00s\n",
            "Presolved: 97 rows, 49 columns, 144 nonzeros\n",
            "Presolved model has 24 bilinear constraint(s)\n",
            "Variable types: 49 continuous, 0 integer (0 binary)\n",
            "\n",
            "Root relaxation: objective 2.754143e+05, 33 iterations, 0.00 seconds\n",
            "\n",
            "    Nodes    |    Current Node    |     Objective Bounds      |     Work\n",
            " Expl Unexpl |  Obj  Depth IntInf | Incumbent    BestBd   Gap | It/Node Time\n",
            "\n",
            "     0     0 275414.273    0    2          - 275414.273      -     -    0s\n",
            "H    0     0                    51652.359218 275414.273   433%     -    0s\n",
            "     0     0 267358.864    0    4 51652.3592 267358.864   418%     -    0s\n",
            "H    0     0                    56532.006095 267358.864   373%     -    0s\n",
            "     0     0 265604.972    0    5 56532.0061 265604.972   370%     -    0s\n",
            "H    0     0                    68235.718589 265604.972   289%     -    0s\n",
            "H    0     0                    85285.225865 265604.972   211%     -    0s\n",
            "     0     0 265246.955    0    6 85285.2259 265246.955   211%     -    0s\n",
            "H    0     0                    86959.397963 265246.955   205%     -    0s\n",
            "     0     0 264713.452    0    6 86959.3980 264713.452   204%     -    0s\n",
            "H    0     0                    90162.950975 264713.452   194%     -    0s\n",
            "H    0     0                    120500.79086 264713.452   120%     -    0s\n",
            "     0     0 264446.700    0    6 120500.791 264446.700   119%     -    0s\n",
            "     0     0 264313.325    0    6 120500.791 264313.325   119%     -    0s\n",
            "H    0     0                    141915.88675 264313.325  86.2%     -    0s\n",
            "     0     0 264246.637    0    6 141915.887 264246.637  86.2%     -    0s\n",
            "     0     0 264213.293    0    6 141915.887 264213.293  86.2%     -    0s\n",
            "     0     0 264196.621    0    6 141915.887 264196.621  86.2%     -    0s\n",
            "     0     0 264188.285    0    6 141915.887 264188.285  86.2%     -    0s\n",
            "     0     0 263179.790    0    7 141915.887 263179.790  85.4%     -    0s\n",
            "H    0     0                    146231.80838 263179.790  80.0%     -    0s\n",
            "     0     2 263179.790    0    7 146231.808 263179.790  80.0%     -    0s\n",
            "H   27     1                    149992.56788 256073.141  70.7%   0.1    0s\n",
            "H   27     1                    154321.63587 256073.141  65.9%   0.1    0s\n",
            "H   27     1                    160979.44593 256073.141  59.1%   0.1    0s\n",
            "H   40     4                    165170.91767 254408.848  54.0%   1.1    0s\n",
            "H   40     4                    165394.72252 254408.848  53.8%   1.1    0s\n",
            "H   48     6                    165967.52912 252990.293  52.4%   1.3    0s\n",
            "H   51     7                    171487.86646 252457.574  47.2%   1.2    0s\n",
            "H   51     7                    171946.27721 252457.574  46.8%   1.2    0s\n",
            "H   72    16                    173515.45984 251919.525  45.2%   1.9    0s\n",
            "H   72    14                    178453.54356 251919.525  41.2%   1.9    0s\n",
            "H   80    18                    178534.27149 251347.180  40.8%   2.1    0s\n",
            "H   88    18                    181686.30463 250776.039  38.0%   2.0    0s\n",
            "H   96    24                    188660.63484 249880.052  32.4%   2.3    0s\n",
            "H   96    24                    188695.90810 249880.052  32.4%   2.3    0s\n",
            "H   97    25                    189129.13924 249269.901  31.8%   2.2    0s\n",
            "H  100    24                    190449.48308 249264.306  30.9%   2.3    0s\n",
            "H  100    24                    190504.83285 249264.306  30.8%   2.3    0s\n",
            "H  100    24                    190771.78707 249264.306  30.7%   2.3    0s\n",
            "H  182    78                    204861.82807 244460.520  19.3%   3.7    0s\n",
            "H  188    84                    205604.05677 244460.520  18.9%   3.9    0s\n",
            "H  188    84                    206070.28632 244460.520  18.6%   3.9    0s\n",
            "H  191    87                    207346.62690 244460.520  17.9%   3.8    0s\n",
            "H  194    90                    208482.23794 244460.520  17.3%   3.8    0s\n",
            "H  194    90                    208512.79037 244460.520  17.2%   3.8    0s\n",
            "H  194    90                    208516.79507 244460.520  17.2%   3.8    0s\n",
            "H  273   163                    219175.85476 244460.520  11.5%   4.5    0s\n",
            "H  282   170                    219527.06997 244460.520  11.4%   4.4    0s\n",
            "H  282   170                    219619.28811 244460.520  11.3%   4.4    0s\n",
            "H  282   170                    219644.97986 244460.520  11.3%   4.4    0s\n",
            "H  282   170                    219645.17337 244460.520  11.3%   4.4    0s\n",
            "H  285   173                    219668.72300 244460.520  11.3%   4.4    0s\n",
            "H  288   176                    219706.69682 244460.520  11.3%   4.3    0s\n",
            "H  288   176                    219733.97705 244460.520  11.3%   4.3    0s\n",
            "H  288   176                    219734.08973 244460.520  11.3%   4.3    0s\n",
            "H  364   252                    219880.44169 244460.520  11.2%   5.3    0s\n",
            "H  376   264                    219906.66274 244460.520  11.2%   5.4    0s\n",
            "H  376   264                    219907.71406 244460.520  11.2%   5.4    0s\n",
            "H  379   267                    219915.67778 244460.520  11.2%   5.5    0s\n",
            "H  379   267                    219921.15889 244460.520  11.2%   5.5    0s\n",
            "H  382   270                    219921.66748 244460.520  11.2%   5.7    0s\n",
            "H  382   270                    219923.24072 244460.520  11.2%   5.7    0s\n",
            "H  382   270                    219923.24087 244460.520  11.2%   5.7    0s\n",
            "H  455   343                    219930.65568 244460.520  11.2%   5.9    0s\n",
            "H  470   358                    219931.34004 244460.520  11.2%   6.1    0s\n",
            "H  470   358                    219931.56018 244460.520  11.2%   6.1    0s\n",
            "H  473   361                    219931.71816 244460.520  11.2%   6.2    0s\n",
            "H  473   361                    219931.81133 244460.520  11.2%   6.2    0s\n",
            "H  473   361                    219931.83390 244460.520  11.2%   6.2    0s\n",
            "H  476   364                    219931.87512 244460.520  11.2%   6.2    0s\n",
            "H  476   364                    219931.87515 244460.520  11.2%   6.2    0s\n",
            "H  564   452                    219932.24478 244460.520  11.2%   6.4    0s\n",
            "H  564   452                    219932.24694 244460.520  11.2%   6.4    0s\n",
            "H  564   452                    219932.24806 244460.520  11.2%   6.4    0s\n",
            "H  658   546                    219932.24860 244460.520  11.2%   6.1    0s\n",
            "H16949 11380                    219959.95259 240317.520  9.26%   3.4    2s\n",
            "H16949 11380                    219959.98059 240317.520  9.26%   3.4    2s\n",
            "H16952 11383                    219959.99741 240317.520  9.26%   3.4    2s\n",
            "H16955 11386                    219960.01272 240317.520  9.26%   3.4    2s\n",
            "H17949 12372                    219960.05901 240317.520  9.26%   3.4    2s\n",
            " 34979 23750 223920.141  102   15 219960.059 239285.225  8.79%   3.3    5s\n",
            "H51844 33920                    219967.30178 238636.448  8.49%   3.3    7s\n",
            "H51844 33916                    219967.50564 238636.448  8.49%   3.3    7s\n",
            "H51847 33798                    219973.22318 238636.448  8.48%   3.3    7s\n",
            "H51847 33707                    219979.39561 238636.448  8.48%   3.3    7s\n",
            "H51847 33679                    219983.30276 238636.448  8.48%   3.3    7s\n",
            "H51850 33635                    219987.72718 238636.448  8.48%   3.3    7s\n",
            "H52841 34553                    219995.77670 238636.448  8.47%   3.4    7s\n",
            "H52841 34553                    219995.77733 238636.448  8.47%   3.4    7s\n",
            "H52841 34553                    219995.77802 238636.448  8.47%   3.4    7s\n",
            "H52844 34556                    219995.78394 238636.448  8.47%   3.4    7s\n",
            "H53838 35446                    219995.81159 238636.448  8.47%   3.4    7s\n",
            "H58823 36589                    220051.36205 238490.683  8.38%   3.4    8s\n",
            " 75049 47181 222066.519   83   14 220051.362 237985.251  8.15%   3.4   10s\n",
            " 116824 74160 220198.037   98   20 220051.362 237134.911  7.76%   3.3   15s\n",
            " 157471 100379 221073.794  108   17 220051.362 236620.214  7.53%   3.3   20s\n",
            " 198141 126285 220281.307  105   15 220051.362 236196.334  7.34%   3.3   25s\n",
            " 238752 152648 231034.581   85   19 220051.362 235866.494  7.19%   3.3   30s\n",
            " 279184 178326 220114.136  114    7 220051.362 235587.466  7.06%   3.3   35s\n",
            " 319792 203552 224914.584  103   16 220051.362 235361.656  6.96%   3.4   40s\n",
            " 360254 228524 226271.249   98   17 220051.362 235153.445  6.86%   3.4   45s\n",
            " 400169 253283     cutoff  108      220051.362 234969.924  6.78%   3.4   50s\n",
            " 441218 278162 220288.210  113   12 220051.362 234796.601  6.70%   3.4   55s\n",
            " 480781 302687 226784.955   96   17 220051.362 234648.860  6.63%   3.4   60s\n",
            " 521591 327301     cutoff  104      220051.362 234503.269  6.57%   3.4   65s\n",
            " 561716 351680 221716.495   95   13 220051.362 234382.021  6.51%   3.4   70s\n",
            " 601748 376298 221456.024  105   18 220051.362 234271.812  6.46%   3.4   75s\n",
            " 641380 400108     cutoff  104      220051.362 234165.597  6.41%   3.4   80s\n",
            " 680912 423864     cutoff  106      220051.362 234064.058  6.37%   3.4   85s\n",
            " 719771 447415     cutoff  100      220051.362 233975.841  6.33%   3.4   90s\n",
            " 759885 471527 223403.546   99   19 220051.362 233876.677  6.28%   3.4   95s\n",
            " 799241 494773 220197.066  111   12 220051.362 233788.475  6.24%   3.4  100s\n",
            " 838808 517948 220427.461  105   16 220051.362 233703.237  6.20%   3.5  105s\n",
            " 878656 541224 223213.674   86   16 220051.362 233624.704  6.17%   3.5  110s\n",
            " 919129 565001 220445.376  111   11 220051.362 233546.067  6.13%   3.5  115s\n",
            " 958400 587644 222148.040  106   15 220051.362 233477.332  6.10%   3.5  120s\n",
            " 998789 611381 220577.016  113   16 220051.362 233407.390  6.07%   3.5  125s\n",
            " 1038390 635170 222507.063  103   17 220051.362 233337.758  6.04%   3.5  130s\n",
            " 1077822 658318 220166.779  109   12 220051.362 233267.461  6.01%   3.5  135s\n",
            " 1117331 681665 232330.719   79   18 220051.362 233204.306  5.98%   3.5  140s\n",
            " 1157011 704735 228524.967   86   20 220051.362 233138.075  5.95%   3.5  145s\n",
            " 1196255 727547 220428.032  112   14 220051.362 233083.953  5.92%   3.5  150s\n",
            " 1235899 750487 221421.078  106   14 220051.362 233026.921  5.90%   3.5  155s\n",
            " 1275643 773233 222215.075  105   13 220051.362 232972.561  5.87%   3.5  160s\n",
            " 1314673 795743     cutoff  109      220051.362 232922.696  5.85%   3.5  165s\n",
            " 1354067 818309 222234.478  106   16 220051.362 232870.449  5.83%   3.5  170s\n",
            " 1393848 841056 220768.061  115   17 220051.362 232819.441  5.80%   3.5  175s\n",
            " 1433301 863591     cutoff  111      220051.362 232767.621  5.78%   3.5  180s\n",
            " 1472370 885946 227402.618   82   16 220051.362 232717.459  5.76%   3.5  185s\n",
            " 1511976 908368 224352.456  101   15 220051.362 232670.105  5.73%   3.5  190s\n",
            " 1551295 930279 220398.439  112   13 220051.362 232625.424  5.71%   3.5  195s\n",
            " 1591364 953578 220355.640  107   12 220051.362 232579.839  5.69%   3.5  200s\n",
            " 1630049 975437 227218.451   95   15 220051.362 232537.621  5.67%   3.5  205s\n",
            " 1670036 997892     cutoff  101      220051.362 232491.421  5.65%   3.5  210s\n",
            " 1709625 1020429 220649.717  100   13 220051.362 232451.174  5.63%   3.5  215s\n",
            " 1749680 1043084     cutoff  109      220051.362 232407.098  5.61%   3.5  220s\n",
            " 1789473 1065647 230236.518   89   19 220051.362 232368.650  5.60%   3.5  225s\n",
            " 1828723 1087387 220626.362  112   17 220051.362 232331.407  5.58%   3.5  230s\n",
            " 1868389 1109059     cutoff   98      220051.362 232291.964  5.56%   3.5  235s\n",
            " 1906815 1130937 227598.655   89   18 220051.362 232256.550  5.55%   3.5  240s\n",
            " 1946728 1152972     cutoff   97      220051.362 232219.853  5.53%   3.5  245s\n",
            " 1987083 1175681 220564.082  127   18 220051.362 232184.370  5.51%   3.5  250s\n",
            " 2026570 1198344 221425.706  106   15 220051.362 232151.012  5.50%   3.5  255s\n",
            " 2065591 1219865 220572.924  110   18 220051.362 232114.918  5.48%   3.5  260s\n",
            " 2105595 1242109 228017.747   90   19 220051.362 232080.334  5.47%   3.5  265s\n",
            " 2144743 1263795 225346.170   94   17 220051.362 232045.553  5.45%   3.5  270s\n",
            " 2183988 1285816 225349.984   93   19 220051.362 232013.943  5.44%   3.5  275s\n",
            " 2223895 1307981     cutoff   85      220051.362 231982.696  5.42%   3.5  280s\n",
            " 2263666 1329620 220072.471  117   10 220051.362 231950.786  5.41%   3.5  285s\n",
            " 2302815 1351493 220266.443  108   14 220051.362 231922.571  5.39%   3.5  290s\n",
            " 2342729 1373397 223260.677   93   19 220051.362 231893.026  5.38%   3.5  295s\n",
            " 2382476 1394960 221205.816  110   18 220051.362 231863.267  5.37%   3.5  300s\n",
            " 2421940 1416612 220704.705   93   17 220051.362 231833.750  5.35%   3.5  305s\n",
            " 2461095 1438197 227521.056   88   17 220051.362 231803.037  5.34%   3.5  310s\n",
            " 2501330 1460652 228617.371   94   19 220051.362 231775.961  5.33%   3.5  315s\n",
            " 2541062 1482234 222604.755   91   16 220051.362 231746.820  5.31%   3.5  320s\n",
            " 2581147 1504341 220177.313  117   14 220051.362 231719.122  5.30%   3.5  325s\n",
            " 2619905 1525753 221493.733   92   17 220051.362 231692.667  5.29%   3.5  330s\n",
            " 2659731 1547493 220630.578  103   15 220051.362 231665.218  5.28%   3.5  335s\n",
            " 2699372 1569478 224851.701   86   16 220051.362 231639.537  5.27%   3.5  340s\n",
            " 2738895 1590847 230610.572   90   18 220051.362 231612.894  5.25%   3.5  345s\n",
            " 2778506 1612918 226554.891   91   19 220051.362 231587.369  5.24%   3.5  350s\n",
            " 2818311 1634645 227490.105   87   18 220051.362 231560.016  5.23%   3.5  355s\n",
            " 2856469 1655861 220872.410  102   17 220051.362 231535.977  5.22%   3.5  360s\n",
            " 2896423 1677867     cutoff  108      220051.362 231510.920  5.21%   3.5  365s\n",
            " 2936116 1699296     cutoff  117      220051.362 231482.687  5.19%   3.5  370s\n",
            " 2975434 1720914 228534.448   91   17 220051.362 231456.727  5.18%   3.5  375s\n",
            " 3015312 1742650 228066.889   76   19 220051.362 231432.926  5.17%   3.5  380s\n",
            " 3054868 1764048 222744.517  101   15 220051.362 231411.238  5.16%   3.5  385s\n",
            " 3094309 1785329 221161.400  100   11 220051.362 231387.860  5.15%   3.5  390s\n",
            " 3132765 1806893 225619.919   92   14 220051.362 231365.226  5.14%   3.5  395s\n",
            " 3172161 1827895 220139.285  105   18 220051.362 231342.751  5.13%   3.5  400s\n",
            " 3211899 1849355 224870.124   98   16 220051.362 231319.988  5.12%   3.5  405s\n",
            " 3250233 1870169 220067.878  141   17 220051.362 231298.397  5.11%   3.5  410s\n",
            " 3289819 1891655 221680.537  105   15 220051.362 231277.708  5.10%   3.5  415s\n",
            " 3328980 1912136 223737.053  106   16 220051.362 231255.456  5.09%   3.5  420s\n",
            " 3367873 1933143 222336.484   94   16 220051.362 231234.247  5.08%   3.5  425s\n",
            " 3407293 1954055     cutoff   97      220051.362 231213.477  5.07%   3.5  430s\n",
            " 3446423 1975253 220571.853  102   14 220051.362 231192.068  5.06%   3.5  435s\n",
            " 3485407 1996187 226032.250   83   16 220051.362 231171.759  5.05%   3.5  440s\n",
            " 3524366 2017502 220140.493  111   15 220051.362 231151.008  5.04%   3.5  445s\n",
            " 3564275 2038553 220521.177   96   14 220051.362 231130.375  5.03%   3.5  450s\n",
            " 3603462 2059608 221826.627   96   17 220051.362 231111.591  5.03%   3.5  455s\n",
            " 3642833 2080707     cutoff   95      220051.362 231091.103  5.02%   3.5  460s\n",
            " 3682253 2102077 223340.178   91   16 220051.362 231071.269  5.01%   3.5  465s\n",
            " 3721582 2122986     cutoff  115      220051.362 231051.119  5.00%   3.5  470s\n",
            " 3760383 2143687 220888.476  107   16 220051.362 231032.965  4.99%   3.5  475s\n",
            " 3799782 2164674 222922.461  100   16 220051.362 231013.672  4.98%   3.5  480s\n",
            " 3839532 2185528 220145.773  106   14 220051.362 230995.008  4.97%   3.5  485s\n",
            " 3878635 2205903 220484.553  115   16 220051.362 230976.419  4.96%   3.5  490s\n",
            " 3918137 2227103 224093.974   98   18 220051.362 230958.846  4.96%   3.5  495s\n",
            " 3957473 2247941     cutoff  115      220051.362 230941.274  4.95%   3.5  500s\n",
            " 3997079 2268299 229940.854   86   20 220051.362 230921.089  4.94%   3.5  505s\n",
            " 4036073 2288477 223438.060  105   14 220051.362 230903.775  4.93%   3.5  510s\n",
            " 4075119 2309135     cutoff  108      220051.362 230886.582  4.92%   3.5  515s\n",
            " 4114503 2330153 227845.375   86   17 220051.362 230870.146  4.92%   3.5  520s\n",
            " 4153844 2351004 228692.996   86   17 220051.362 230853.125  4.91%   3.5  525s\n",
            " 4193481 2372085 220145.310  111   14 220051.362 230835.772  4.90%   3.5  530s\n",
            " 4232932 2393354 228376.463   89   20 220051.362 230819.239  4.89%   3.5  535s\n",
            " 4272030 2413604     cutoff  105      220051.362 230801.290  4.89%   3.5  540s\n",
            " 4311307 2434477 222374.481  108   17 220051.362 230784.637  4.88%   3.5  545s\n",
            " 4350911 2455677 222563.863   97   16 220051.362 230767.736  4.87%   3.5  550s\n",
            " 4389497 2475707 220159.184  105   15 220051.362 230750.616  4.86%   3.5  555s\n",
            " 4428722 2496428 220356.682  108   12 220051.362 230733.866  4.85%   3.5  560s\n",
            " 4467729 2516587 221877.797  100   15 220051.362 230717.002  4.85%   3.5  565s\n",
            " 4506656 2536706     cutoff   99      220051.362 230699.631  4.84%   3.5  570s\n",
            " 4546272 2557528 225070.703   95   19 220051.362 230682.924  4.83%   3.5  575s\n",
            " 4585521 2577821 221366.915   92   15 220051.362 230667.033  4.82%   3.5  580s\n",
            " 4624441 2598543     cutoff  105      220051.362 230652.069  4.82%   3.5  585s\n",
            " 4663510 2619228 222623.821   96   16 220051.362 230636.365  4.81%   3.5  590s\n",
            " 4702976 2639838 220541.123  109   12 220051.362 230622.093  4.80%   3.5  595s\n",
            " 4742029 2660825 225935.684   93   19 220051.362 230607.744  4.80%   3.5  600s\n",
            " 4781253 2681913 221561.458  101   17 220051.362 230592.663  4.79%   3.5  605s\n",
            " 4820562 2702108     cutoff  100      220051.362 230577.159  4.78%   3.5  610s\n",
            " 4859360 2721842     cutoff   98      220051.362 230562.338  4.78%   3.5  615s\n",
            " 4898609 2742335 225940.055   81   15 220051.362 230547.156  4.77%   3.5  620s\n",
            " 4937926 2763140 225652.219   93   18 220051.362 230532.726  4.76%   3.5  625s\n",
            " 4976405 2782895 223088.112   96   15 220051.362 230518.043  4.76%   3.5  630s\n",
            " 5015549 2803593 220059.546  107   11 220051.362 230504.023  4.75%   3.5  635s\n",
            " 5054818 2823422 220870.623  102   13 220051.362 230489.584  4.74%   3.5  640s\n",
            " 5093303 2843593 222016.887  104   15 220051.362 230475.958  4.74%   3.5  645s\n",
            " 5132008 2863498 227220.567   87   17 220051.362 230462.613  4.73%   3.5  650s\n",
            " 5171067 2883343 227284.319   90   19 220051.362 230448.772  4.72%   3.5  655s\n",
            " 5210097 2903645 220525.093  109   15 220051.362 230434.732  4.72%   3.5  660s\n",
            " 5249078 2923648 225445.340   86   18 220051.362 230421.209  4.71%   3.5  665s\n",
            " 5287606 2943198 220146.500  115   15 220051.362 230407.732  4.71%   3.5  670s\n",
            " 5326194 2963004 220061.306  118    8 220051.362 230394.980  4.70%   3.5  675s\n",
            " 5365734 2983672 220095.186  106   14 220051.362 230380.336  4.69%   3.5  680s\n",
            " 5404703 3003527 221527.124  108   15 220051.362 230366.796  4.69%   3.5  685s\n",
            " 5442770 3022572 227010.883   77   17 220051.362 230352.766  4.68%   3.5  690s\n",
            " 5481750 3042946 221415.021   95   15 220051.362 230339.253  4.68%   3.5  695s\n",
            " 5520486 3062878     cutoff   87      220051.362 230327.088  4.67%   3.5  700s\n",
            " 5559127 3082689     cutoff   98      220051.362 230313.919  4.66%   3.5  705s\n",
            " 5597686 3102650 225896.603   88   17 220051.362 230301.638  4.66%   3.5  710s\n",
            " 5636795 3122877 226613.038   89   18 220051.362 230289.108  4.65%   3.5  715s\n",
            " 5675382 3143182 220241.589   99   13 220051.362 230276.984  4.65%   3.5  720s\n",
            " 5713782 3162972     cutoff   95      220051.362 230263.871  4.64%   3.5  725s\n",
            " 5751453 3182299 221250.838  105   15 220051.362 230251.406  4.64%   3.5  730s\n",
            " 5789113 3202035 220697.586  101   13 220051.362 230238.999  4.63%   3.5  735s\n",
            " 5828597 3222541     cutoff  108      220051.362 230226.444  4.62%   3.5  740s\n",
            " 5867252 3242522     cutoff  107      220051.362 230214.012  4.62%   3.5  745s\n",
            " 5904836 3261422 227851.610   87   14 220051.362 230202.016  4.61%   3.5  750s\n",
            " 5942897 3280729     cutoff  106      220051.362 230190.414  4.61%   3.5  755s\n",
            " 5980674 3299974     cutoff  106      220051.362 230178.932  4.60%   3.5  760s\n",
            " 6018863 3319565 220174.478   97   18 220051.362 230166.722  4.60%   3.5  765s\n",
            " 6057064 3339332 220936.923  103   13 220051.362 230154.938  4.59%   3.5  770s\n",
            " 6095867 3359173     cutoff   83      220051.362 230143.187  4.59%   3.5  775s\n",
            " 6134507 3379135 220357.510  137   17 220051.362 230131.545  4.58%   3.5  780s\n",
            " 6173003 3398593 220282.568  104   18 220051.362 230119.951  4.58%   3.5  785s\n",
            " 6211651 3418207 220347.240  114   14 220051.362 230108.675  4.57%   3.5  790s\n",
            " 6250061 3438261 221181.308   80   17 220051.362 230097.351  4.57%   3.5  795s\n",
            " 6288085 3458193 223505.683   98   17 220051.362 230086.531  4.56%   3.5  800s\n",
            " 6326632 3478120 221438.190   95   14 220051.362 230075.659  4.56%   3.5  805s\n",
            " 6364947 3497201 222993.138   85   16 220051.362 230064.324  4.55%   3.5  810s\n",
            " 6403886 3516622 221376.317  105   15 220051.362 230052.939  4.55%   3.5  815s\n",
            " 6442658 3537060     cutoff  102      220051.362 230042.098  4.54%   3.5  820s\n",
            " 6481044 3556474 223418.331   93   17 220051.362 230030.918  4.54%   3.5  825s\n",
            " 6519712 3575836 221662.813  104   15 220051.362 230019.696  4.53%   3.5  830s\n",
            " 6558386 3595640 225131.330   99   14 220051.362 230008.833  4.53%   3.5  835s\n",
            " 6596814 3615512 220054.178  105   14 220051.362 229998.567  4.52%   3.5  840s\n",
            " 6635475 3635621     cutoff  101      220051.362 229988.163  4.52%   3.5  845s\n",
            " 6674202 3655330 220377.152   95   17 220051.362 229978.187  4.51%   3.5  850s\n",
            " 6712281 3674229     cutoff   91      220051.362 229966.848  4.51%   3.5  855s\n",
            " 6751367 3694097 221207.977   95   17 220051.362 229955.914  4.50%   3.5  860s\n",
            " 6790059 3713745 220301.030   93   17 220051.362 229945.968  4.50%   3.5  865s\n",
            " 6829117 3734067     cutoff  114      220051.362 229935.740  4.49%   3.5  870s\n",
            " 6868009 3754099 223095.957   94   18 220051.362 229925.575  4.49%   3.5  875s\n",
            " 6906991 3773621 220897.932   95   20 220051.362 229914.559  4.48%   3.5  880s\n",
            " 6946365 3793233 221049.621  100   15 220051.362 229904.183  4.48%   3.5  885s\n",
            " 6984777 3812395 228494.064   73   16 220051.362 229893.153  4.47%   3.5  890s\n",
            " 7024146 3831896 227802.537   74   16 220051.362 229881.720  4.47%   3.5  895s\n",
            " 7061983 3850903 221373.248  105   15 220051.362 229871.687  4.46%   3.5  900s\n",
            " 7100576 3870616 223600.778   94   16 220051.362 229861.644  4.46%   3.5  905s\n",
            " 7139920 3890220 220180.671  101   13 220051.362 229851.044  4.45%   3.5  910s\n",
            " 7178777 3909655 221451.326  102   16 220051.362 229841.094  4.45%   3.5  915s\n",
            " 7217693 3929731 220326.099   95   16 220051.362 229830.872  4.44%   3.5  920s\n",
            " 7256307 3949027 223753.941  100   14 220051.362 229821.290  4.44%   3.5  925s\n",
            " 7294645 3968611     cutoff  106      220051.362 229812.212  4.44%   3.5  930s\n",
            " 7332777 3987875     cutoff  108      220051.362 229802.293  4.43%   3.5  935s\n",
            " 7371422 4007534     cutoff   98      220051.362 229792.952  4.43%   3.5  940s\n",
            "H7407969 4023647                    220053.55581 229784.682  4.42%   3.5  945s\n",
            " 7445514 4042248 220897.769  105   11 220053.556 229774.750  4.42%   3.5  950s\n",
            " 7483950 4061606 227154.884   82   17 220053.556 229764.193  4.41%   3.5  955s\n",
            " 7522871 4080801 223802.398   99   15 220053.556 229754.873  4.41%   3.5  960s\n",
            " 7561294 4099826 227012.152   93   20 220053.556 229745.665  4.40%   3.5  965s\n",
            " 7600343 4119945     cutoff  114      220053.556 229736.483  4.40%   3.5  970s\n",
            " 7638993 4139061 220427.608   98   15 220053.556 229726.644  4.40%   3.5  975s\n",
            " 7678134 4158636 220913.263  102   14 220053.556 229716.542  4.39%   3.5  980s\n",
            " 7717158 4178238 225841.257   95   17 220053.556 229706.658  4.39%   3.5  985s\n",
            " 7756227 4197703 220415.282  106   14 220053.556 229696.695  4.38%   3.5  990s\n",
            " 7795307 4217201 221344.002  109   16 220053.556 229687.696  4.38%   3.5  995s\n",
            " 7833380 4236006 226173.875   84   20 220053.556 229678.496  4.37%   3.5 1000s\n",
            " 7872427 4255487 224201.273   95   17 220053.556 229669.531  4.37%   3.5 1005s\n",
            " 7910742 4275194 220246.833  120   13 220053.556 229660.480  4.37%   3.5 1010s\n",
            " 7949694 4294622 223030.552   86   15 220053.556 229651.842  4.36%   3.5 1015s\n",
            " 7988153 4313645 224821.911   84   16 220053.556 229642.864  4.36%   3.5 1020s\n",
            " 8026681 4333301 221291.575   97   18 220053.556 229634.176  4.35%   3.5 1025s\n",
            " 8065687 4352803 221179.854  101   17 220053.556 229625.650  4.35%   3.5 1030s\n",
            " 8104213 4371491 220061.207  105   15 220053.556 229616.715  4.35%   3.5 1035s\n",
            " 8142221 4390331 226263.718   94   16 220053.556 229607.952  4.34%   3.5 1040s\n",
            " 8180662 4409330 223974.430   95   15 220053.556 229599.043  4.34%   3.5 1045s\n",
            " 8219329 4428825 223483.174   85   14 220053.556 229590.809  4.33%   3.5 1050s\n",
            " 8258327 4448199 224767.951   99   16 220053.556 229582.130  4.33%   3.5 1055s\n",
            " 8296833 4466863 220472.854  105   14 220053.556 229572.751  4.33%   3.5 1060s\n",
            " 8334753 4486009 224642.202   91   18 220053.556 229564.914  4.32%   3.5 1065s\n",
            " 8373770 4505494     cutoff  106      220053.556 229556.234  4.32%   3.5 1070s\n",
            " 8412383 4524731 220399.836  102   14 220053.556 229547.243  4.31%   3.5 1075s\n",
            " 8450991 4544053 224856.099   95   16 220053.556 229538.992  4.31%   3.5 1080s\n",
            " 8490283 4563349     cutoff  106      220053.556 229530.318  4.31%   3.5 1085s\n",
            " 8528962 4582634     cutoff  102      220053.556 229522.113  4.30%   3.5 1090s\n",
            " 8567172 4601822 226384.378   95   15 220053.556 229514.195  4.30%   3.5 1095s\n",
            " 8605976 4620786 221031.929  103   14 220053.556 229505.754  4.30%   3.5 1100s\n",
            " 8645091 4639933 221291.219  101   15 220053.556 229497.672  4.29%   3.5 1105s\n",
            " 8683938 4659564     cutoff  103      220053.556 229489.819  4.29%   3.5 1110s\n",
            " 8722032 4678496     cutoff  114      220053.556 229481.707  4.28%   3.5 1115s\n",
            " 8760506 4697440 223183.846   91   18 220053.556 229473.110  4.28%   3.5 1120s\n",
            " 8799642 4716582     cutoff  104      220053.556 229464.522  4.28%   3.5 1125s\n",
            " 8838351 4735109 225896.424   99   18 220053.556 229456.278  4.27%   3.5 1130s\n",
            " 8876832 4753902 224104.002   98   14 220053.556 229447.994  4.27%   3.5 1135s\n",
            " 8914670 4772288 222213.386  101   15 220053.556 229440.123  4.27%   3.5 1140s\n",
            " 8953386 4791024 222627.722   96   17 220053.556 229431.767  4.26%   3.5 1145s\n",
            " 8992379 4810115     cutoff  102      220053.556 229424.222  4.26%   3.5 1150s\n",
            " 9031597 4829863 222008.034   97   15 220053.556 229416.092  4.25%   3.5 1155s\n",
            " 9070307 4848497 221838.841  101   17 220053.556 229407.847  4.25%   3.5 1160s\n",
            " 9109449 4867269 223455.909  100   15 220053.556 229399.833  4.25%   3.5 1165s\n",
            " 9148272 4886174 221201.263  104   15 220053.556 229392.124  4.24%   3.5 1170s\n",
            " 9187468 4905158 221283.054  102   15 220053.556 229384.232  4.24%   3.5 1175s\n",
            " 9226189 4924335 220193.247  110   15 220053.556 229376.700  4.24%   3.5 1180s\n",
            " 9264919 4943487 222988.920  104   19 220053.556 229368.637  4.23%   3.5 1185s\n",
            " 9303984 4962394 220658.438   99   14 220053.556 229360.579  4.23%   3.5 1190s\n",
            " 9342389 4981309 226952.664   90   16 220053.556 229353.294  4.23%   3.5 1195s\n",
            " 9379302 4999404     cutoff  104      220053.556 229345.936  4.22%   3.5 1200s\n",
            " 9417567 5018089 220285.691  118   14 220053.556 229338.538  4.22%   3.5 1205s\n",
            " 9455310 5036932 220386.095  108   19 220053.556 229331.594  4.22%   3.5 1210s\n",
            " 9492712 5055330 226977.051   90   16 220053.556 229324.507  4.21%   3.5 1215s\n",
            " 9530077 5072863 221638.632  100   15 220053.556 229317.053  4.21%   3.5 1220s\n",
            " 9567424 5090618 220178.161  108   16 220053.556 229310.052  4.21%   3.5 1225s\n",
            " 9604477 5108329 220250.282   99   18 220053.556 229303.183  4.20%   3.5 1230s\n",
            " 9642211 5126359 223508.382   95   18 220053.556 229296.261  4.20%   3.5 1235s\n",
            " 9679264 5144466 220366.677  107   16 220053.556 229289.723  4.20%   3.5 1240s\n",
            " 9716413 5162407 221129.031   98   17 220053.556 229282.296  4.19%   3.5 1245s\n",
            " 9754070 5180400 223730.635   95   15 220053.556 229274.989  4.19%   3.5 1250s\n",
            " 9791759 5198715 220159.765  103   16 220053.556 229267.385  4.19%   3.5 1255s\n",
            " 9827945 5216295 225263.155   85   16 220053.556 229260.455  4.18%   3.5 1260s\n",
            " 9863683 5234177 220492.582  110   15 220053.556 229253.736  4.18%   3.5 1265s\n",
            " 9901238 5252752 221482.306  107   13 220053.556 229246.973  4.18%   3.5 1270s\n",
            " 9938677 5271361 220338.228  100   15 220053.556 229240.686  4.17%   3.5 1275s\n",
            " 9976790 5290394 220195.690   89   14 220053.556 229234.157  4.17%   3.5 1280s\n",
            " 10013861 5308537 227690.151   95   18 220053.556 229227.280  4.17%   3.5 1285s\n",
            " 10052189 5327081 224219.550  102   17 220053.556 229219.963  4.17%   3.5 1290s\n",
            " 10090704 5345600 220318.094  102   15 220053.556 229213.234  4.16%   3.5 1295s\n",
            " 10129804 5364930 221113.531  102   18 220053.556 229206.248  4.16%   3.5 1300s\n",
            " 10167913 5383381 221569.065   99   14 220053.556 229199.515  4.16%   3.5 1305s\n",
            " 10206224 5401598 220155.174  107   17 220053.556 229192.848  4.15%   3.5 1310s\n",
            " 10244569 5420109 221894.778   97   13 220053.556 229186.181  4.15%   3.5 1315s\n",
            " 10282548 5438492 220349.890  114   17 220053.556 229179.020  4.15%   3.5 1320s\n",
            " 10321122 5457118 221493.753  102   17 220053.556 229172.266  4.14%   3.5 1325s\n",
            " 10359112 5475410     cutoff  106      220053.556 229165.407  4.14%   3.5 1330s\n",
            " 10397583 5493719     cutoff  104      220053.556 229158.518  4.14%   3.5 1335s\n",
            " 10435754 5512104 221988.784  101   15 220053.556 229151.817  4.13%   3.5 1340s\n",
            " 10474285 5530225     cutoff  108      220053.556 229144.860  4.13%   3.5 1345s\n",
            " 10512282 5547946 220140.506  107   14 220053.556 229137.903  4.13%   3.5 1350s\n",
            " 10550587 5565879     cutoff  106      220053.556 229130.782  4.13%   3.5 1355s\n",
            " 10589075 5584847 220054.948  112   16 220053.556 229123.920  4.12%   3.5 1360s\n",
            " 10627372 5603328 221059.629  104   15 220053.556 229116.823  4.12%   3.5 1365s\n",
            " 10666052 5622098 228098.571   91   19 220053.556 229110.277  4.12%   3.5 1370s\n",
            " 10704272 5640278 220886.645   99   16 220053.556 229103.239  4.11%   3.5 1375s\n",
            " 10742885 5659013 227632.016   91   17 220053.556 229096.721  4.11%   3.5 1380s\n",
            " 10781209 5677607 225726.127   97   18 220053.556 229090.349  4.11%   3.5 1385s\n",
            " 10819678 5696092 220771.054  102   14 220053.556 229083.776  4.10%   3.5 1390s\n",
            " 10857785 5714185 221324.654  102   15 220053.556 229077.723  4.10%   3.5 1395s\n",
            " 10895662 5732588 220140.679  105   15 220053.556 229071.527  4.10%   3.5 1400s\n",
            " 10934601 5751665 221301.806  101   17 220053.556 229065.195  4.10%   3.5 1405s\n",
            " 10973203 5770485     cutoff  102      220053.556 229059.002  4.09%   3.5 1410s\n",
            " 11012125 5789357     cutoff   99      220053.556 229052.559  4.09%   3.5 1415s\n",
            " 11050616 5807832 225960.292   83   16 220053.556 229046.096  4.09%   3.5 1420s\n",
            " 11089087 5826165 220236.909  110   14 220053.556 229039.999  4.08%   3.5 1425s\n",
            " 11126988 5844426     cutoff  103      220053.556 229034.088  4.08%   3.5 1430s\n",
            " 11165910 5862480 222245.634   99   17 220053.556 229027.575  4.08%   3.5 1435s\n",
            " 11204991 5881245 223266.990   97   14 220053.556 229021.384  4.08%   3.5 1440s\n",
            " 11243197 5899499 226664.668   84   16 220053.556 229015.075  4.07%   3.5 1445s\n",
            " 11282468 5918018 221452.870   99   11 220053.556 229008.166  4.07%   3.5 1450s\n",
            " 11321050 5936196 228243.860   92   16 220053.556 229001.996  4.07%   3.5 1455s\n",
            " 11359535 5953951 222247.023  105   14 220053.556 228995.604  4.06%   3.5 1460s\n",
            " 11397502 5972218     cutoff  106      220053.556 228989.656  4.06%   3.5 1465s\n",
            " 11436520 5990338 220899.927  100   15 220053.556 228983.188  4.06%   3.5 1470s\n",
            " 11475441 6009337     cutoff  103      220053.556 228977.192  4.06%   3.5 1475s\n",
            " 11513995 6027589     cutoff  117      220053.556 228971.121  4.05%   3.5 1480s\n",
            " 11551930 6046254     cutoff  122      220053.556 228965.528  4.05%   3.5 1485s\n",
            " 11590631 6065023 220795.669   99   15 220053.556 228959.418  4.05%   3.5 1490s\n",
            " 11629004 6082908 220519.160   99   17 220053.556 228953.271  4.04%   3.5 1495s\n",
            " 11667392 6101612 223427.183   88   16 220053.556 228947.124  4.04%   3.5 1500s\n",
            " 11705947 6119579 225421.920   98   15 220053.556 228940.859  4.04%   3.5 1505s\n",
            " 11744823 6138571 220236.932  105   15 220053.556 228934.749  4.04%   3.5 1510s\n",
            "\n",
            "Explored 11756752 nodes (41354929 simplex iterations) in 1511.53 seconds\n",
            "Thread count was 2 (of 2 available processors)\n",
            "\n",
            "Solution count 10: 220054 220051 219996 ... 219979\n",
            "\n",
            "Solve interrupted\n",
            "Best objective 2.200535558093e+05, best bound 2.289326266894e+05, gap 4.0350%\n"
          ]
        }
      ]
    },
    {
      "cell_type": "code",
      "metadata": {
        "colab": {
          "base_uri": "https://localhost:8080/"
        },
        "id": "xgkCM3pNSpzv",
        "outputId": "d0d75ce9-ab6d-48a9-dd71-3309a84d0413"
      },
      "source": [
        "# Print output\n",
        "print(\"Available allocation: \" + str(A_limit))\n",
        "print(factory2.ObjVal)\n",
        "for x in x_allocate_2.items():\n",
        "  if (x[1].x != 0): print (str(x[0]) + \":\" + str(x[1].x))"
      ],
      "execution_count": null,
      "outputs": [
        {
          "output_type": "stream",
          "name": "stdout",
          "text": [
            "Available allocation: 227384535\n",
            "220053.555809331\n",
            "QmNrS2U5DHqn5DJiKKD1ZS4BpHeAGDsKjftHMwX8LqSZqv:3748387.856003058\n",
            "QmRLE9ueEaDvBD57qsgUBANmyXwd7f8cybj8oTcVWC4KGb:5226970.574689268\n",
            "Qmaz1R8vcv9v3gUfksqiS9JUz7K9G8S5By3JYn8kTiiP5K:21728925.25311621\n",
            "QmTKXLEdMD6Vq7Nwxo8XAfnHpG6H1TzL1AGwiqLpoae3Pb:13928254.969153287\n",
            "QmXU1g4ju2zNBmDanMBHHuwJyDRG7pCjTK9DdAPvXqfQc4:14853616.600749068\n",
            "Qmf1RePazWgnPpJRcejQZjdisifKcxH7RykFkpKoBKLc5M:19081280.578844067\n",
            "QmRhh7rFt3qxfRMTZvHRNK6jCobX4Gx5TkzWXhZkuj57w8:12361071.473240934\n",
            "QmZsXh48bDVNVvrkweZRoGJrXbvbXzTE5M8ztZYc46dPRx:2137237.4142475245\n",
            "QmTBxvMF6YnbT1eYeRx9XQpH4WvxTV53vdptCCZFiZSprg:8669502.026610851\n",
            "QmTYMx6Ls53MfqAPYbPwMyt45KKzayznc2kxeDiwmgvtF9:5462695.095977578\n",
            "QmZdsSbRwVD7VVVm5WGxZZC6HYvbjnFb4hcwvQ4fTs5bxA:8523487.24175055\n",
            "QmWkVS3Uzr2WsTwvxtte2dpHbSYJSQ1bTQMVciKXCWx7TM:26268643.63363329\n",
            "QmbJfBH9wtW1N81d2HtYZZgyNi1S98EkQbWnXB3jqNP9Qw:1533829.4323327597\n",
            "QmUVskWrz1ZiQZ76AtyhcfFDEH1ELnRpoyEhVL8p6NFTbR:16841968.729029816\n",
            "QmcKFhdu1pM4ycFmqiYV6XJv3tC9UDmBRQyZ5FsAtgAQnX:4758657.767416994\n",
            "QmbsoSF2Hb9spcVshwcGURZWxVM4ezHMN1GFNFkta9f4JK:1614608.1789640584\n",
            "QmbHg6vAJRD9ZWz5GTP9oMrfDyetnGTr5KWJBYAq59fm1W:18266983.826649904\n",
            "QmP9a8FEBkkt5SCvcRyv35denC2RFSfWGoL2tgoo8LHpPy:2841548.0678278957\n",
            "Qmcgtsin741cNTtgnkpoDcY92GDK1isRG5F39FNEmEok4n:1929289.5490838024\n",
            "QmbL5761GrNnT8X3Emeny6NbXQxDwXxdpiER2boASKBhFW:3568959.934435698\n",
            "QmYEq9PxgUEstxqE853qLMJ9MbowNrVVMGifFc8mUaHhhT:1146460.5247454105\n",
            "QmaYbdmTiRWojPzo6tqvuFzxVU9fshNc8S1GMuDUQP6nQx:5159971.0383550385\n",
            "QmRDGLp6BHwiH9HAE2NYEE3f7LrKuRqziHBv76trT4etgU:15144232.318818094\n",
            "QmXVcpJnKTzWAa6Z7oKYMJyum6xhyEH1j5a81ZUwEmVtFj:12587952.914324855\n"
          ]
        }
      ]
    },
    {
      "cell_type": "markdown",
      "metadata": {
        "id": "cLQJ4R3tdZf7"
      },
      "source": [
        "# Scipy version"
      ]
    },
    {
      "cell_type": "code",
      "metadata": {
        "colab": {
          "base_uri": "https://localhost:8080/"
        },
        "id": "ZsVaIYVOjNol",
        "outputId": "6242b4ef-232f-4771-ff4f-644cbe4272c4"
      },
      "source": [
        "subgraph_list = list(value for index, value in subgraphs.items())\n",
        "\n",
        "def objective(x):\n",
        "  total = 0\n",
        "  for index in range(len(subgraph_list)): \n",
        "    total -= ( current_signals[subgraph_list[index]['ipfsHash']] / (current_allocations[subgraph_list[index]['ipfsHash']] + x[index]) ) * x[index]\n",
        "  # print(\"total: \" + str(total))\n",
        "  return total\n",
        "\n",
        "def total_allocation_constraint(x):\n",
        "  return A_limit - np.sum(x)\n",
        "\n",
        "# initial guesses : A_limit / float(n)\n",
        "n = len(subgraphs)\n",
        "x0 = np.full(n, 0)\n",
        "\n",
        "# show initial objective\n",
        "print('Initial Objective: ' + str(objective(x0)))\n",
        "\n",
        "# optimize\n",
        "bnds = [(0.0, A_limit) for _ in range(n)]\n",
        "con1 = {'type': 'eq', 'fun': total_allocation_constraint}\n",
        "cons = ([con1])\n",
        "solution = minimize(objective,x0,method='SLSQP',\\\n",
        "                    bounds=bnds,constraints=cons)\n",
        "x = solution.x\n",
        "\n",
        "# show final objective\n",
        "print('Final SSE Objective: ' + str(objective(x)))\n",
        "\n",
        "# print solution\n",
        "print('Solution')\n",
        "for i in range(n):\n",
        "  if x[i] != 0:\n",
        "    print(str(subgraph_list[i]['ipfsHash']) + \":\" + str(x[i]))"
      ],
      "execution_count": null,
      "outputs": [
        {
          "name": "stdout",
          "output_type": "stream",
          "text": [
            "Initial Objective: 0.0\n",
            "Final SSE Objective: -12985.841384756322\n",
            "Solution\n",
            "QmbL5761GrNnT8X3Emeny6NbXQxDwXxdpiER2boASKBhFW:1676969.2629268821\n",
            "QmbHg6vAJRD9ZWz5GTP9oMrfDyetnGTr5KWJBYAq59fm1W:1676969.2627961251\n",
            "QmNrS2U5DHqn5DJiKKD1ZS4BpHeAGDsKjftHMwX8LqSZqv:1676969.2631033892\n",
            "Qmcgtsin741cNTtgnkpoDcY92GDK1isRG5F39FNEmEok4n:1676969.2628100417\n",
            "QmUVskWrz1ZiQZ76AtyhcfFDEH1ELnRpoyEhVL8p6NFTbR:1676969.262790388\n",
            "QmWkVS3Uzr2WsTwvxtte2dpHbSYJSQ1bTQMVciKXCWx7TM:1676969.2627906944\n",
            "Qmf1RePazWgnPpJRcejQZjdisifKcxH7RykFkpKoBKLc5M:1676969.2627824782\n"
          ]
        }
      ]
    },
    {
      "cell_type": "markdown",
      "metadata": {
        "id": "pEeFfIOmfj8M"
      },
      "source": [
        "Extra"
      ]
    },
    {
      "cell_type": "code",
      "metadata": {
        "id": "lkvRqBsMflub"
      },
      "source": [
        "# print(\"available allocation: \" + str(A_limit))\n",
        "# for subgraph in subgraphs:\n",
        "#   print(subgraphs[subgraph])\n",
        "\n",
        "import csv\n",
        "csv_columns = ['id', 'ipfsHash','displayName','signalledTokens', 'stakedTokens']\n",
        "\n",
        "csv_file = \"current_subgraphs_data.csv\"\n",
        "try:\n",
        "    with open(csv_file, 'w') as csvfile:\n",
        "        writer = csv.DictWriter(csvfile, fieldnames=csv_columns)\n",
        "        writer.writeheader()\n",
        "        for data in subgraphs:\n",
        "          writer.writerow(subgraphs[data])\n",
        "except IOError:\n",
        "    print(\"I/O error\")"
      ],
      "execution_count": null,
      "outputs": []
    },
    {
      "cell_type": "code",
      "metadata": {
        "colab": {
          "base_uri": "https://localhost:8080/"
        },
        "id": "79lYXfX93NFV",
        "outputId": "38a18330-d296-4ef7-db3d-615e46bf04da"
      },
      "source": [
        "2470627+1132547+2077132+1522565+1708770+2548964+278188"
      ],
      "execution_count": null,
      "outputs": [
        {
          "data": {
            "text/plain": [
              "11738793"
            ]
          },
          "execution_count": 111,
          "metadata": {},
          "output_type": "execute_result"
        }
      ]
    }
  ]
}